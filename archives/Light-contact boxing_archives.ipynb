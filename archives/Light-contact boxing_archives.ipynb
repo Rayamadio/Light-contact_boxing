{
 "cells": [
  {
   "cell_type": "markdown",
   "metadata": {
    "datalore": {
     "hide_input_from_viewers": true,
     "hide_output_from_viewers": true,
     "node_id": "QN0V3cQdAjWJrYJDFvfdwk",
     "type": "MD"
    }
   },
   "source": [
    "# Introduction \n",
    "\n",
    "Ce projet concerne le Travail de Bachelor sur l'analyse de données en temps réel sur l'arbitrage du light-contact boxing. Le but est de signaler en temps réel les divergences de points attribués par les juges.\n"
   ]
  },
  {
   "cell_type": "markdown",
   "metadata": {
    "datalore": {
     "hide_input_from_viewers": true,
     "hide_output_from_viewers": true,
     "node_id": "Pw6OaWbeqahPxdWV14GYfD",
     "type": "MD"
    }
   },
   "source": [
    "## Import"
   ]
  },
  {
   "cell_type": "code",
   "execution_count": 1,
   "metadata": {
    "datalore": {
     "hide_input_from_viewers": true,
     "hide_output_from_viewers": true,
     "node_id": "is2RXTfpNm3M6B4PsQceiT",
     "type": "CODE"
    }
   },
   "outputs": [],
   "source": [
    "import pandas as pd\n",
    "import numpy as np\n",
    "import matplotlib.pyplot as plt\n",
    "import plotly.graph_objects as go\n",
    "import matplotlib.dates as mdates\n",
    "import scipy.stats as stats\n",
    "from sklearn.ensemble import IsolationForest\n",
    "from sklearn.cluster import DBSCAN\n",
    "from sklearn import metrics\n",
    "from sklearn.preprocessing import StandardScaler\n",
    "from fastdtw import fastdtw\n",
    "from scipy.spatial.distance import euclidean"
   ]
  },
  {
   "cell_type": "markdown",
   "metadata": {
    "datalore": {
     "hide_input_from_viewers": true,
     "hide_output_from_viewers": true,
     "node_id": "cjmW55zd4z6TEi5qthCb1Q",
     "type": "MD"
    }
   },
   "source": [
    "## Data exploration\n",
    "Chargement du fichier CSV LCBA_scores.csv\n",
    "\n",
    "Voici une visualisation du match_id 21096"
   ]
  },
  {
   "cell_type": "code",
   "execution_count": 2,
   "metadata": {
    "datalore": {
     "hide_input_from_viewers": true,
     "hide_output_from_viewers": true,
     "node_id": "tgmACGXHG3wHPBaLW4iubQ",
     "type": "CODE"
    },
    "scrolled": false
   },
   "outputs": [
    {
     "data": {
      "text/html": [
       "<div>\n",
       "<style scoped>\n",
       "    .dataframe tbody tr th:only-of-type {\n",
       "        vertical-align: middle;\n",
       "    }\n",
       "\n",
       "    .dataframe tbody tr th {\n",
       "        vertical-align: top;\n",
       "    }\n",
       "\n",
       "    .dataframe thead th {\n",
       "        text-align: right;\n",
       "    }\n",
       "</style>\n",
       "<table border=\"1\" class=\"dataframe\">\n",
       "  <thead>\n",
       "    <tr style=\"text-align: right;\">\n",
       "      <th></th>\n",
       "      <th>score_id</th>\n",
       "      <th>red_point</th>\n",
       "      <th>red_penalty</th>\n",
       "      <th>blue_point</th>\n",
       "      <th>blue_penalty</th>\n",
       "      <th>date_create_app</th>\n",
       "      <th>judge_id</th>\n",
       "      <th>match_id</th>\n",
       "    </tr>\n",
       "  </thead>\n",
       "  <tbody>\n",
       "    <tr>\n",
       "      <th>0</th>\n",
       "      <td>1</td>\n",
       "      <td>0</td>\n",
       "      <td>0</td>\n",
       "      <td>0</td>\n",
       "      <td>0</td>\n",
       "      <td>NaN</td>\n",
       "      <td>114816</td>\n",
       "      <td>21089</td>\n",
       "    </tr>\n",
       "    <tr>\n",
       "      <th>1</th>\n",
       "      <td>2</td>\n",
       "      <td>0</td>\n",
       "      <td>0</td>\n",
       "      <td>0</td>\n",
       "      <td>0</td>\n",
       "      <td>NaN</td>\n",
       "      <td>114822</td>\n",
       "      <td>21089</td>\n",
       "    </tr>\n",
       "    <tr>\n",
       "      <th>2</th>\n",
       "      <td>3</td>\n",
       "      <td>0</td>\n",
       "      <td>0</td>\n",
       "      <td>0</td>\n",
       "      <td>0</td>\n",
       "      <td>NaN</td>\n",
       "      <td>114824</td>\n",
       "      <td>21089</td>\n",
       "    </tr>\n",
       "    <tr>\n",
       "      <th>3</th>\n",
       "      <td>4</td>\n",
       "      <td>0</td>\n",
       "      <td>0</td>\n",
       "      <td>0</td>\n",
       "      <td>0</td>\n",
       "      <td>NaN</td>\n",
       "      <td>114826</td>\n",
       "      <td>21093</td>\n",
       "    </tr>\n",
       "    <tr>\n",
       "      <th>4</th>\n",
       "      <td>5</td>\n",
       "      <td>0</td>\n",
       "      <td>0</td>\n",
       "      <td>0</td>\n",
       "      <td>0</td>\n",
       "      <td>NaN</td>\n",
       "      <td>114813</td>\n",
       "      <td>21093</td>\n",
       "    </tr>\n",
       "    <tr>\n",
       "      <th>...</th>\n",
       "      <td>...</td>\n",
       "      <td>...</td>\n",
       "      <td>...</td>\n",
       "      <td>...</td>\n",
       "      <td>...</td>\n",
       "      <td>...</td>\n",
       "      <td>...</td>\n",
       "      <td>...</td>\n",
       "    </tr>\n",
       "    <tr>\n",
       "      <th>38778</th>\n",
       "      <td>38952</td>\n",
       "      <td>1</td>\n",
       "      <td>0</td>\n",
       "      <td>0</td>\n",
       "      <td>0</td>\n",
       "      <td>2023-04-15 14:18:52.2+00</td>\n",
       "      <td>115226</td>\n",
       "      <td>22514</td>\n",
       "    </tr>\n",
       "    <tr>\n",
       "      <th>38779</th>\n",
       "      <td>38953</td>\n",
       "      <td>1</td>\n",
       "      <td>0</td>\n",
       "      <td>0</td>\n",
       "      <td>0</td>\n",
       "      <td>2023-04-15 14:18:51.485+00</td>\n",
       "      <td>114927</td>\n",
       "      <td>22514</td>\n",
       "    </tr>\n",
       "    <tr>\n",
       "      <th>38780</th>\n",
       "      <td>38954</td>\n",
       "      <td>1</td>\n",
       "      <td>0</td>\n",
       "      <td>0</td>\n",
       "      <td>0</td>\n",
       "      <td>2023-04-15 14:18:56.33+00</td>\n",
       "      <td>114927</td>\n",
       "      <td>22514</td>\n",
       "    </tr>\n",
       "    <tr>\n",
       "      <th>38781</th>\n",
       "      <td>38955</td>\n",
       "      <td>1</td>\n",
       "      <td>0</td>\n",
       "      <td>0</td>\n",
       "      <td>0</td>\n",
       "      <td>2023-04-15 14:18:56.889+00</td>\n",
       "      <td>114926</td>\n",
       "      <td>22514</td>\n",
       "    </tr>\n",
       "    <tr>\n",
       "      <th>38782</th>\n",
       "      <td>38956</td>\n",
       "      <td>1</td>\n",
       "      <td>0</td>\n",
       "      <td>0</td>\n",
       "      <td>0</td>\n",
       "      <td>2023-04-15 14:19:01.423+00</td>\n",
       "      <td>115226</td>\n",
       "      <td>22514</td>\n",
       "    </tr>\n",
       "  </tbody>\n",
       "</table>\n",
       "<p>38783 rows × 8 columns</p>\n",
       "</div>"
      ],
      "text/plain": [
       "       score_id  red_point  red_penalty  blue_point  blue_penalty  \\\n",
       "0             1          0            0           0             0   \n",
       "1             2          0            0           0             0   \n",
       "2             3          0            0           0             0   \n",
       "3             4          0            0           0             0   \n",
       "4             5          0            0           0             0   \n",
       "...         ...        ...          ...         ...           ...   \n",
       "38778     38952          1            0           0             0   \n",
       "38779     38953          1            0           0             0   \n",
       "38780     38954          1            0           0             0   \n",
       "38781     38955          1            0           0             0   \n",
       "38782     38956          1            0           0             0   \n",
       "\n",
       "                  date_create_app  judge_id  match_id  \n",
       "0                             NaN    114816     21089  \n",
       "1                             NaN    114822     21089  \n",
       "2                             NaN    114824     21089  \n",
       "3                             NaN    114826     21093  \n",
       "4                             NaN    114813     21093  \n",
       "...                           ...       ...       ...  \n",
       "38778    2023-04-15 14:18:52.2+00    115226     22514  \n",
       "38779  2023-04-15 14:18:51.485+00    114927     22514  \n",
       "38780   2023-04-15 14:18:56.33+00    114927     22514  \n",
       "38781  2023-04-15 14:18:56.889+00    114926     22514  \n",
       "38782  2023-04-15 14:19:01.423+00    115226     22514  \n",
       "\n",
       "[38783 rows x 8 columns]"
      ]
     },
     "execution_count": 2,
     "metadata": {},
     "output_type": "execute_result"
    }
   ],
   "source": [
    "data = pd.read_csv('LCBA_scores.csv')\n",
    "\n",
    "cols_to_display = ['score_id', 'red_point','red_penalty', 'blue_point','blue_penalty', 'date_create_app', 'judge_id', 'match_id']\n",
    "data[cols_to_display]"
   ]
  },
  {
   "cell_type": "markdown",
   "metadata": {},
   "source": [
    "Colonne red_point"
   ]
  },
  {
   "cell_type": "code",
   "execution_count": 3,
   "metadata": {
    "datalore": {
     "hide_input_from_viewers": true,
     "hide_output_from_viewers": true,
     "node_id": "B95eiIg9YFvHDqKsaoMdSa",
     "type": "CODE"
    }
   },
   "outputs": [
    {
     "data": {
      "text/plain": [
       "count    38783.000000\n",
       "mean         0.456102\n",
       "std          0.561632\n",
       "min         -3.000000\n",
       "25%          0.000000\n",
       "50%          0.000000\n",
       "75%          1.000000\n",
       "max          3.000000\n",
       "Name: red_point, dtype: float64"
      ]
     },
     "execution_count": 3,
     "metadata": {},
     "output_type": "execute_result"
    }
   ],
   "source": [
    "data.red_point.describe()"
   ]
  },
  {
   "cell_type": "markdown",
   "metadata": {},
   "source": [
    "Colonne blue_point"
   ]
  },
  {
   "cell_type": "code",
   "execution_count": 4,
   "metadata": {
    "datalore": {
     "hide_input_from_viewers": true,
     "hide_output_from_viewers": true,
     "node_id": "nEe63FNq8cc9mFOFn9t6BX",
     "type": "CODE"
    }
   },
   "outputs": [
    {
     "data": {
      "text/plain": [
       "count    38783.000000\n",
       "mean         0.457288\n",
       "std          0.556790\n",
       "min         -3.000000\n",
       "25%          0.000000\n",
       "50%          0.000000\n",
       "75%          1.000000\n",
       "max          3.000000\n",
       "Name: blue_point, dtype: float64"
      ]
     },
     "execution_count": 4,
     "metadata": {},
     "output_type": "execute_result"
    }
   ],
   "source": [
    "data.blue_point.describe()"
   ]
  },
  {
   "cell_type": "markdown",
   "metadata": {},
   "source": [
    "Colonne date_create_app"
   ]
  },
  {
   "cell_type": "code",
   "execution_count": 5,
   "metadata": {
    "datalore": {
     "hide_input_from_viewers": true,
     "hide_output_from_viewers": true,
     "node_id": "8yXuQ2qvU3KNVE3ieGcq0f",
     "type": "CODE"
    }
   },
   "outputs": [
    {
     "data": {
      "text/plain": [
       "count                          36786\n",
       "unique                         36782\n",
       "top       2022-06-18 12:36:59.029+00\n",
       "freq                               2\n",
       "Name: date_create_app, dtype: object"
      ]
     },
     "execution_count": 5,
     "metadata": {},
     "output_type": "execute_result"
    }
   ],
   "source": [
    "data.date_create_app.describe()"
   ]
  },
  {
   "cell_type": "markdown",
   "metadata": {
    "datalore": {
     "hide_input_from_viewers": true,
     "hide_output_from_viewers": true,
     "node_id": "Npg8s8pSMtgeBj9wOHcr4x",
     "type": "MD"
    }
   },
   "source": [
    "On voit qu'il existe des valeurs null et négatives, quelques modifications/correction sonz apporter.\n",
    "Nous allons prémièrement se concentrer sur un seul match_id."
   ]
  },
  {
   "cell_type": "code",
   "execution_count": 6,
   "metadata": {
    "datalore": {
     "hide_input_from_viewers": true,
     "hide_output_from_viewers": true,
     "node_id": "hk3LRBFYYGK4dg4F8VTHXa",
     "type": "CODE"
    }
   },
   "outputs": [
    {
     "data": {
      "text/html": [
       "<div>\n",
       "<style scoped>\n",
       "    .dataframe tbody tr th:only-of-type {\n",
       "        vertical-align: middle;\n",
       "    }\n",
       "\n",
       "    .dataframe tbody tr th {\n",
       "        vertical-align: top;\n",
       "    }\n",
       "\n",
       "    .dataframe thead th {\n",
       "        text-align: right;\n",
       "    }\n",
       "</style>\n",
       "<table border=\"1\" class=\"dataframe\">\n",
       "  <thead>\n",
       "    <tr style=\"text-align: right;\">\n",
       "      <th></th>\n",
       "      <th>score_id</th>\n",
       "      <th>red_point</th>\n",
       "      <th>blue_point</th>\n",
       "      <th>judge_id</th>\n",
       "    </tr>\n",
       "  </thead>\n",
       "  <tbody>\n",
       "    <tr>\n",
       "      <th>393</th>\n",
       "      <td>394</td>\n",
       "      <td>0</td>\n",
       "      <td>-1</td>\n",
       "      <td>114819</td>\n",
       "    </tr>\n",
       "    <tr>\n",
       "      <th>427</th>\n",
       "      <td>428</td>\n",
       "      <td>-1</td>\n",
       "      <td>0</td>\n",
       "      <td>114819</td>\n",
       "    </tr>\n",
       "    <tr>\n",
       "      <th>428</th>\n",
       "      <td>429</td>\n",
       "      <td>-1</td>\n",
       "      <td>0</td>\n",
       "      <td>114819</td>\n",
       "    </tr>\n",
       "    <tr>\n",
       "      <th>444</th>\n",
       "      <td>445</td>\n",
       "      <td>-1</td>\n",
       "      <td>0</td>\n",
       "      <td>114813</td>\n",
       "    </tr>\n",
       "  </tbody>\n",
       "</table>\n",
       "</div>"
      ],
      "text/plain": [
       "     score_id  red_point  blue_point  judge_id\n",
       "393       394          0          -1    114819\n",
       "427       428         -1           0    114819\n",
       "428       429         -1           0    114819\n",
       "444       445         -1           0    114813"
      ]
     },
     "execution_count": 6,
     "metadata": {},
     "output_type": "execute_result"
    }
   ],
   "source": [
    "negative_scores = data[(data['red_point'] < 0) | (data['blue_point'] < 0)].sort_values('score_id')\n",
    "\n",
    "cols_to_display2 = ['score_id', 'red_point', 'blue_point', 'judge_id']\n",
    "negative_scores.loc[negative_scores['match_id'] == 21096, cols_to_display2]"
   ]
  },
  {
   "cell_type": "markdown",
   "metadata": {
    "datalore": {
     "hide_input_from_viewers": true,
     "hide_output_from_viewers": true,
     "node_id": "4Q9G6stb8wF8ypdaVLUwcY",
     "type": "MD"
    }
   },
   "source": [
    "Et maintenant s'il existe valeurs supérieur à 1."
   ]
  },
  {
   "cell_type": "code",
   "execution_count": 7,
   "metadata": {
    "datalore": {
     "hide_input_from_viewers": true,
     "hide_output_from_viewers": true,
     "node_id": "vIdIUbc9A6KVmx2pc974fJ",
     "type": "CODE"
    }
   },
   "outputs": [
    {
     "data": {
      "text/html": [
       "<div>\n",
       "<style scoped>\n",
       "    .dataframe tbody tr th:only-of-type {\n",
       "        vertical-align: middle;\n",
       "    }\n",
       "\n",
       "    .dataframe tbody tr th {\n",
       "        vertical-align: top;\n",
       "    }\n",
       "\n",
       "    .dataframe thead th {\n",
       "        text-align: right;\n",
       "    }\n",
       "</style>\n",
       "<table border=\"1\" class=\"dataframe\">\n",
       "  <thead>\n",
       "    <tr style=\"text-align: right;\">\n",
       "      <th></th>\n",
       "      <th>score_id</th>\n",
       "      <th>red_point</th>\n",
       "      <th>blue_point</th>\n",
       "      <th>judge_id</th>\n",
       "    </tr>\n",
       "  </thead>\n",
       "  <tbody>\n",
       "  </tbody>\n",
       "</table>\n",
       "</div>"
      ],
      "text/plain": [
       "Empty DataFrame\n",
       "Columns: [score_id, red_point, blue_point, judge_id]\n",
       "Index: []"
      ]
     },
     "execution_count": 7,
     "metadata": {},
     "output_type": "execute_result"
    }
   ],
   "source": [
    "negative_scores = data[(data['red_point'] > 1) | (data['blue_point'] > 1)].sort_values('score_id')\n",
    "\n",
    "cols_to_display2 = ['score_id', 'red_point', 'blue_point', 'judge_id']\n",
    "negative_scores.loc[negative_scores['match_id'] == 21096, cols_to_display2]"
   ]
  },
  {
   "cell_type": "markdown",
   "metadata": {
    "datalore": {
     "hide_input_from_viewers": true,
     "hide_output_from_viewers": true,
     "node_id": "NiMcKCkVFvhHiexSC0rvGj",
     "type": "MD"
    }
   },
   "source": [
    "Ces valeurs devront être traitées.\n",
    "Nous allons maintenant voir la forme (type) de nos données :"
   ]
  },
  {
   "cell_type": "code",
   "execution_count": 8,
   "metadata": {
    "datalore": {
     "hide_input_from_viewers": true,
     "hide_output_from_viewers": true,
     "node_id": "raCqHKboeTAyOK5jeBWaml",
     "type": "CODE"
    }
   },
   "outputs": [
    {
     "name": "stdout",
     "output_type": "stream",
     "text": [
      "<class 'pandas.core.frame.DataFrame'>\n",
      "RangeIndex: 38783 entries, 0 to 38782\n",
      "Data columns (total 37 columns):\n",
      " #   Column                    Non-Null Count  Dtype  \n",
      "---  ------                    --------------  -----  \n",
      " 0   score_id                  38783 non-null  int64  \n",
      " 1   red_penalty               38783 non-null  int64  \n",
      " 2   red_point                 38783 non-null  int64  \n",
      " 3   blue_penalty              38783 non-null  int64  \n",
      " 4   blue_point                38783 non-null  int64  \n",
      " 5   date_create               38783 non-null  object \n",
      " 6   date_change               38783 non-null  object \n",
      " 7   judge_id                  38783 non-null  int64  \n",
      " 8   match_id                  38783 non-null  int64  \n",
      " 9   date_create_app           36786 non-null  object \n",
      " 10  uuid                      36786 non-null  object \n",
      " 11  judge_club_id             38783 non-null  int64  \n",
      " 12  match_id.1                38783 non-null  int64  \n",
      " 13  PalmaresDate              38783 non-null  object \n",
      " 14  winner                    38745 non-null  object \n",
      " 15  PalmaresRedCountRanking   38783 non-null  bool   \n",
      " 16  PalmaresBlueCountRanking  38783 non-null  bool   \n",
      " 17  PalmaresRound             1157 non-null   float64\n",
      " 18  PalmaresFightNr           38783 non-null  int64  \n",
      " 19  PalmaresFinal             38783 non-null  bool   \n",
      " 20  PalmaresDeleted           38783 non-null  bool   \n",
      " 21  PalmaresBlueClubID        38783 non-null  int64  \n",
      " 22  PalmaresBlueMemberID      38783 non-null  int64  \n",
      " 23  PalmaresRedClubID         38783 non-null  int64  \n",
      " 24  PalmaresRedMemberID       38783 non-null  int64  \n",
      " 25  PalmaresResultID          38745 non-null  float64\n",
      " 26  PalmaresTournamentID      38783 non-null  int64  \n",
      " 27  PalmaresTrophyRuleID      27484 non-null  float64\n",
      " 28  PalmaresPublished         38783 non-null  bool   \n",
      " 29  PalmaresRealEndTime       38701 non-null  object \n",
      " 30  PalmaresRealStartTime     38783 non-null  object \n",
      " 31  PalmaresRingID            38676 non-null  float64\n",
      " 32  blue_injured              38783 non-null  bool   \n",
      " 33  open_time                 38783 non-null  object \n",
      " 34  red_injured               38783 non-null  bool   \n",
      " 35  blue_height               38783 non-null  int64  \n",
      " 36  red_height                38783 non-null  int64  \n",
      "dtypes: bool(7), float64(4), int64(17), object(9)\n",
      "memory usage: 9.1+ MB\n"
     ]
    }
   ],
   "source": [
    "data.info()"
   ]
  },
  {
   "cell_type": "markdown",
   "metadata": {
    "datalore": {
     "hide_input_from_viewers": true,
     "hide_output_from_viewers": true,
     "node_id": "9uNCZvH8F3KyheL32uv2ve",
     "type": "MD"
    }
   },
   "source": [
    "## Data preparation"
   ]
  },
  {
   "cell_type": "markdown",
   "metadata": {
    "datalore": {
     "hide_input_from_viewers": true,
     "hide_output_from_viewers": true,
     "node_id": "PQTS7whPqtu21kQj1FIj8y",
     "type": "MD"
    }
   },
   "source": [
    "### Conversion date\n",
    "On constate qu'il considère les format de date comme des objets. On les convertit pour pour faciliter les prochains calculs sur la série temporelle. Le datetime64[ns] est un type de données utilisé dans Pandas pour représenter les dates et heures avec une précision jusqu'à la nanoseconde. "
   ]
  },
  {
   "cell_type": "code",
   "execution_count": 9,
   "metadata": {
    "datalore": {
     "hide_input_from_viewers": true,
     "hide_output_from_viewers": true,
     "node_id": "Y9GURBgbjDZpqKJnMtT6CZ",
     "type": "CODE"
    }
   },
   "outputs": [],
   "source": [
    "cols_to_convert = ['date_create', 'date_change','date_create_app','PalmaresDate','PalmaresRealEndTime','PalmaresRealStartTime','open_time']\n",
    "data[cols_to_convert] = data[cols_to_convert].apply(pd.to_datetime)"
   ]
  },
  {
   "cell_type": "code",
   "execution_count": 10,
   "metadata": {
    "datalore": {
     "hide_input_from_viewers": true,
     "hide_output_from_viewers": true,
     "node_id": "C4Wo0TQzBQrS4OW3UX9fT9",
     "type": "CODE"
    }
   },
   "outputs": [
    {
     "name": "stdout",
     "output_type": "stream",
     "text": [
      "<class 'pandas.core.frame.DataFrame'>\n",
      "RangeIndex: 38783 entries, 0 to 38782\n",
      "Data columns (total 37 columns):\n",
      " #   Column                    Non-Null Count  Dtype              \n",
      "---  ------                    --------------  -----              \n",
      " 0   score_id                  38783 non-null  int64              \n",
      " 1   red_penalty               38783 non-null  int64              \n",
      " 2   red_point                 38783 non-null  int64              \n",
      " 3   blue_penalty              38783 non-null  int64              \n",
      " 4   blue_point                38783 non-null  int64              \n",
      " 5   date_create               38783 non-null  datetime64[ns, UTC]\n",
      " 6   date_change               38783 non-null  datetime64[ns, UTC]\n",
      " 7   judge_id                  38783 non-null  int64              \n",
      " 8   match_id                  38783 non-null  int64              \n",
      " 9   date_create_app           36786 non-null  datetime64[ns, UTC]\n",
      " 10  uuid                      36786 non-null  object             \n",
      " 11  judge_club_id             38783 non-null  int64              \n",
      " 12  match_id.1                38783 non-null  int64              \n",
      " 13  PalmaresDate              38783 non-null  datetime64[ns]     \n",
      " 14  winner                    38745 non-null  object             \n",
      " 15  PalmaresRedCountRanking   38783 non-null  bool               \n",
      " 16  PalmaresBlueCountRanking  38783 non-null  bool               \n",
      " 17  PalmaresRound             1157 non-null   float64            \n",
      " 18  PalmaresFightNr           38783 non-null  int64              \n",
      " 19  PalmaresFinal             38783 non-null  bool               \n",
      " 20  PalmaresDeleted           38783 non-null  bool               \n",
      " 21  PalmaresBlueClubID        38783 non-null  int64              \n",
      " 22  PalmaresBlueMemberID      38783 non-null  int64              \n",
      " 23  PalmaresRedClubID         38783 non-null  int64              \n",
      " 24  PalmaresRedMemberID       38783 non-null  int64              \n",
      " 25  PalmaresResultID          38745 non-null  float64            \n",
      " 26  PalmaresTournamentID      38783 non-null  int64              \n",
      " 27  PalmaresTrophyRuleID      27484 non-null  float64            \n",
      " 28  PalmaresPublished         38783 non-null  bool               \n",
      " 29  PalmaresRealEndTime       38701 non-null  datetime64[ns]     \n",
      " 30  PalmaresRealStartTime     38783 non-null  datetime64[ns]     \n",
      " 31  PalmaresRingID            38676 non-null  float64            \n",
      " 32  blue_injured              38783 non-null  bool               \n",
      " 33  open_time                 38783 non-null  datetime64[ns]     \n",
      " 34  red_injured               38783 non-null  bool               \n",
      " 35  blue_height               38783 non-null  int64              \n",
      " 36  red_height                38783 non-null  int64              \n",
      "dtypes: bool(7), datetime64[ns, UTC](3), datetime64[ns](4), float64(4), int64(17), object(2)\n",
      "memory usage: 9.1+ MB\n"
     ]
    }
   ],
   "source": [
    "data.info()"
   ]
  },
  {
   "cell_type": "markdown",
   "metadata": {
    "datalore": {
     "hide_input_from_viewers": true,
     "hide_output_from_viewers": true,
     "node_id": "eVEOdE4kuj483qvOOxPk8V",
     "type": "MD"
    }
   },
   "source": [
    "### Suppresion des colonnes null"
   ]
  },
  {
   "cell_type": "code",
   "execution_count": 11,
   "metadata": {
    "datalore": {
     "hide_input_from_viewers": true,
     "hide_output_from_viewers": true,
     "node_id": "30rthoHp8ijTyvFG9pxflg",
     "type": "CODE"
    }
   },
   "outputs": [
    {
     "name": "stdout",
     "output_type": "stream",
     "text": [
      "Empty DataFrame\n",
      "Columns: [score_id, red_point, blue_point, judge_id, date_create_app]\n",
      "Index: []\n"
     ]
    }
   ],
   "source": [
    "null_rows = negative_scores[negative_scores['date_create_app'].isnull()]\n",
    "\n",
    "cols_to_display2 = ['score_id', 'red_point', 'blue_point', 'judge_id', 'date_create_app']\n",
    "print(null_rows[cols_to_display2])\n",
    "\n",
    "# Supprimer les lignes\n",
    "data = data.dropna(subset=['date_create_app'])"
   ]
  },
  {
   "cell_type": "markdown",
   "metadata": {
    "datalore": {
     "hide_input_from_viewers": true,
     "hide_output_from_viewers": true,
     "node_id": "PqM0DrV7ufu9EpXIQcqBru",
     "type": "MD"
    }
   },
   "source": [
    "### Suppresssion des lignes négatives\n",
    "\n",
    "Nous avons constaté précédement qu'il y avait des lignes négatives. Il ne faut pas les considérer. Une ligne négative est créée pour un éventuel réquilibrage si le juge attribue un point par erreur."
   ]
  },
  {
   "cell_type": "code",
   "execution_count": 12,
   "metadata": {},
   "outputs": [
    {
     "name": "stdout",
     "output_type": "stream",
     "text": [
      "Données pour le match_id 21096 :\n",
      "     score_id  red_point  red_penalty  blue_point  blue_penalty  \\\n",
      "392       393          0            0           1             0   \n",
      "393       394          0            0          -1             0   \n",
      "400       401          0            0           1             0   \n",
      "401       402          1            0           0             0   \n",
      "402       403          1            0           0             0   \n",
      "..        ...        ...          ...         ...           ...   \n",
      "478       479          1            0           0             0   \n",
      "479       480          1            0           0             0   \n",
      "480       481          0            0           1             0   \n",
      "481       482          0            0           1             0   \n",
      "482       483          1            0           0             0   \n",
      "\n",
      "                     date_create_app  judge_id  match_id  \n",
      "392 2021-06-26 11:43:43.749000+00:00    114819     21096  \n",
      "393 2021-06-26 11:43:45.252000+00:00    114819     21096  \n",
      "400 2021-06-26 11:44:32.023000+00:00    114813     21096  \n",
      "401 2021-06-26 11:44:33.222000+00:00    114826     21096  \n",
      "402 2021-06-26 11:44:36.483000+00:00    114813     21096  \n",
      "..                               ...       ...       ...  \n",
      "478 2021-06-26 11:49:13.858000+00:00    114819     21096  \n",
      "479 2021-06-26 11:49:14.303000+00:00    114813     21096  \n",
      "480 2021-06-26 11:49:16.728000+00:00    114813     21096  \n",
      "481 2021-06-26 11:49:18.399000+00:00    114826     21096  \n",
      "482 2021-06-26 11:49:18.456000+00:00    114819     21096  \n",
      "\n",
      "[75 rows x 8 columns]\n"
     ]
    }
   ],
   "source": [
    "match_21096 = data.loc[data['match_id'] == 21096].sort_values('score_id')\n",
    "\n",
    "cols_to_display = ['score_id', 'red_point', 'red_penalty', 'blue_point', 'blue_penalty', 'date_create_app', 'judge_id', 'match_id']\n",
    "match_21096_filtered = match_21096.loc[:, cols_to_display]\n",
    "\n",
    "print(\"Données pour le match_id 21096 :\")\n",
    "print(match_21096_filtered)"
   ]
  },
  {
   "cell_type": "code",
   "execution_count": 13,
   "metadata": {
    "datalore": {
     "hide_input_from_viewers": true,
     "hide_output_from_viewers": true,
     "node_id": "pkQDiMHRF69u9JVUSSpqzL",
     "type": "CODE"
    }
   },
   "outputs": [
    {
     "data": {
      "text/html": [
       "<div>\n",
       "<style scoped>\n",
       "    .dataframe tbody tr th:only-of-type {\n",
       "        vertical-align: middle;\n",
       "    }\n",
       "\n",
       "    .dataframe tbody tr th {\n",
       "        vertical-align: top;\n",
       "    }\n",
       "\n",
       "    .dataframe thead th {\n",
       "        text-align: right;\n",
       "    }\n",
       "</style>\n",
       "<table border=\"1\" class=\"dataframe\">\n",
       "  <thead>\n",
       "    <tr style=\"text-align: right;\">\n",
       "      <th></th>\n",
       "      <th>score_id</th>\n",
       "      <th>red_point</th>\n",
       "      <th>blue_point</th>\n",
       "      <th>judge_id</th>\n",
       "    </tr>\n",
       "  </thead>\n",
       "  <tbody>\n",
       "    <tr>\n",
       "      <th>393</th>\n",
       "      <td>394</td>\n",
       "      <td>0</td>\n",
       "      <td>-1</td>\n",
       "      <td>114819</td>\n",
       "    </tr>\n",
       "    <tr>\n",
       "      <th>427</th>\n",
       "      <td>428</td>\n",
       "      <td>-1</td>\n",
       "      <td>0</td>\n",
       "      <td>114819</td>\n",
       "    </tr>\n",
       "    <tr>\n",
       "      <th>428</th>\n",
       "      <td>429</td>\n",
       "      <td>-1</td>\n",
       "      <td>0</td>\n",
       "      <td>114819</td>\n",
       "    </tr>\n",
       "    <tr>\n",
       "      <th>444</th>\n",
       "      <td>445</td>\n",
       "      <td>-1</td>\n",
       "      <td>0</td>\n",
       "      <td>114813</td>\n",
       "    </tr>\n",
       "  </tbody>\n",
       "</table>\n",
       "</div>"
      ],
      "text/plain": [
       "     score_id  red_point  blue_point  judge_id\n",
       "393       394          0          -1    114819\n",
       "427       428         -1           0    114819\n",
       "428       429         -1           0    114819\n",
       "444       445         -1           0    114813"
      ]
     },
     "execution_count": 13,
     "metadata": {},
     "output_type": "execute_result"
    }
   ],
   "source": [
    "negative_scores = data[(data['red_point'] < 0) | (data['blue_point'] < 0)].sort_values('score_id')\n",
    "\n",
    "cols_to_display2 = ['score_id', 'red_point', 'blue_point', 'judge_id']\n",
    "negative_scores.loc[negative_scores['match_id'] == 21096, cols_to_display2]"
   ]
  },
  {
   "cell_type": "markdown",
   "metadata": {
    "datalore": {
     "hide_input_from_viewers": true,
     "hide_output_from_viewers": true,
     "node_id": "qxFXRIEmMQewbvv6Kn2oYz",
     "type": "MD"
    }
   },
   "source": [
    "Nous allons donc cherche donc chercher \n",
    "- la ligne précèdente \n",
    "- la ligne suivante \n",
    "- la différence de temps avec la ligne précèdente\n",
    "- la différence de temps avec la ligne suivante\n",
    "- la ligne identifiante (score_id) qui est la plus proche"
   ]
  },
  {
   "cell_type": "code",
   "execution_count": 14,
   "metadata": {
    "datalore": {
     "hide_input_from_viewers": true,
     "hide_output_from_viewers": true,
     "node_id": "7xGNmNUG0Wtvl3SGCeywgg",
     "type": "CODE"
    }
   },
   "outputs": [
    {
     "data": {
      "text/html": [
       "<div>\n",
       "<style scoped>\n",
       "    .dataframe tbody tr th:only-of-type {\n",
       "        vertical-align: middle;\n",
       "    }\n",
       "\n",
       "    .dataframe tbody tr th {\n",
       "        vertical-align: top;\n",
       "    }\n",
       "\n",
       "    .dataframe thead th {\n",
       "        text-align: right;\n",
       "    }\n",
       "</style>\n",
       "<table border=\"1\" class=\"dataframe\">\n",
       "  <thead>\n",
       "    <tr style=\"text-align: right;\">\n",
       "      <th></th>\n",
       "      <th>score_id</th>\n",
       "      <th>red_point</th>\n",
       "      <th>blue_point</th>\n",
       "      <th>judge_id</th>\n",
       "      <th>closest_score1</th>\n",
       "      <th>closest_score2</th>\n",
       "      <th>time_diff1</th>\n",
       "      <th>time_diff2</th>\n",
       "      <th>closest_score_id</th>\n",
       "    </tr>\n",
       "  </thead>\n",
       "  <tbody>\n",
       "    <tr>\n",
       "      <th>393</th>\n",
       "      <td>394</td>\n",
       "      <td>0</td>\n",
       "      <td>-1</td>\n",
       "      <td>114819</td>\n",
       "      <td>393.0</td>\n",
       "      <td>404.0</td>\n",
       "      <td>1.503</td>\n",
       "      <td>51.924</td>\n",
       "      <td>393.0</td>\n",
       "    </tr>\n",
       "    <tr>\n",
       "      <th>427</th>\n",
       "      <td>428</td>\n",
       "      <td>-1</td>\n",
       "      <td>0</td>\n",
       "      <td>114819</td>\n",
       "      <td>430.0</td>\n",
       "      <td>423.0</td>\n",
       "      <td>3.765</td>\n",
       "      <td>12.132</td>\n",
       "      <td>430.0</td>\n",
       "    </tr>\n",
       "    <tr>\n",
       "      <th>428</th>\n",
       "      <td>429</td>\n",
       "      <td>-1</td>\n",
       "      <td>0</td>\n",
       "      <td>114819</td>\n",
       "      <td>430.0</td>\n",
       "      <td>423.0</td>\n",
       "      <td>1.689</td>\n",
       "      <td>14.208</td>\n",
       "      <td>430.0</td>\n",
       "    </tr>\n",
       "    <tr>\n",
       "      <th>444</th>\n",
       "      <td>445</td>\n",
       "      <td>-1</td>\n",
       "      <td>0</td>\n",
       "      <td>114813</td>\n",
       "      <td>443.0</td>\n",
       "      <td>446.0</td>\n",
       "      <td>2.349</td>\n",
       "      <td>3.259</td>\n",
       "      <td>443.0</td>\n",
       "    </tr>\n",
       "  </tbody>\n",
       "</table>\n",
       "</div>"
      ],
      "text/plain": [
       "     score_id  red_point  blue_point  judge_id  closest_score1  \\\n",
       "393       394          0          -1    114819           393.0   \n",
       "427       428         -1           0    114819           430.0   \n",
       "428       429         -1           0    114819           430.0   \n",
       "444       445         -1           0    114813           443.0   \n",
       "\n",
       "     closest_score2  time_diff1  time_diff2  closest_score_id  \n",
       "393           404.0       1.503      51.924             393.0  \n",
       "427           423.0       3.765      12.132             430.0  \n",
       "428           423.0       1.689      14.208             430.0  \n",
       "444           446.0       2.349       3.259             443.0  "
      ]
     },
     "execution_count": 14,
     "metadata": {},
     "output_type": "execute_result"
    }
   ],
   "source": [
    "data = data[data['match_id'] == 21096]\n",
    "\n",
    "# Création d'un dictionnaire contenant les scores positifs de chaque juge pour chaque match\n",
    "positive_scores_dict = {}\n",
    "positive_scores = data[(data['red_point'] > 0) | (data['blue_point'] > 0)]\n",
    "for _, row in positive_scores.iterrows():\n",
    "    judge_id = row['judge_id']\n",
    "    match_id = row['match_id']\n",
    "    if match_id not in positive_scores_dict:\n",
    "        positive_scores_dict[match_id] = {}\n",
    "    if judge_id not in positive_scores_dict[match_id]:\n",
    "        positive_scores_dict[match_id][judge_id] = []\n",
    "    positive_scores_dict[match_id][judge_id].append(row)\n",
    "\n",
    "# Parcourir les lignes avec des scores négatifs\n",
    "for _, row in negative_scores.iterrows():\n",
    "    score_id = row['score_id']\n",
    "    judge_id = row['judge_id']\n",
    "    match_id = row['match_id']\n",
    "\n",
    "    # Trouver les deux scores positifs les plus proches en termes de date_create_app avec le même judge_id\n",
    "    closest_scores = []\n",
    "    if match_id in positive_scores_dict and judge_id in positive_scores_dict[match_id]:\n",
    "        for positive_row in positive_scores_dict[match_id][judge_id]:\n",
    "            time_diff = abs(row['date_create_app'] - positive_row['date_create_app'])\n",
    "            closest_scores.append((time_diff, positive_row))\n",
    "        closest_scores.sort(key=lambda x: x[0])\n",
    "\n",
    "    # Récupération des informations des scores positifs les plus proches\n",
    "    if closest_scores:\n",
    "        closest_row1 = closest_scores[0][1]\n",
    "        if len(closest_scores) > 1:\n",
    "            closest_row2 = closest_scores[1][1]\n",
    "        else:\n",
    "            closest_row2 = None\n",
    "    else:\n",
    "        closest_row1 = None\n",
    "        closest_row2 = None\n",
    "\n",
    "    # Ajout des informations dans les colonnes correspondantes\n",
    "    negative_scores.at[row.name, 'closest_score1'] = closest_row1['score_id'] if closest_row1 is not None else None\n",
    "    negative_scores.at[row.name, 'closest_score2'] = closest_row2['score_id'] if closest_row2 is not None else None\n",
    "    negative_scores.at[row.name, 'time_diff1'] = closest_scores[0][0].total_seconds() if closest_row1 is not None else None\n",
    "    negative_scores.at[row.name, 'time_diff2'] = closest_scores[1][0].total_seconds() if closest_row2 is not None else None\n",
    "\n",
    "    # Ajout d'une colonne pour le score_id correspondant au temps le plus court\n",
    "    if closest_scores:\n",
    "        closest_score_id = closest_scores[0][1]['score_id']\n",
    "        negative_scores.at[row.name, 'closest_score_id'] = closest_score_id\n",
    "    else:\n",
    "        negative_scores.at[row.name, 'closest_score_id'] = None\n",
    "\n",
    "\n",
    "# Affichage des colonnes spécifiées pour les données avec match_id 21096\n",
    "cols_to_display4 = ['score_id', 'red_point', 'blue_point', 'judge_id', 'closest_score1', 'closest_score2', 'time_diff1', 'time_diff2', 'closest_score_id']\n",
    "negative_scores.loc[negative_scores['match_id'] == 21096, cols_to_display4]\n"
   ]
  },
  {
   "cell_type": "code",
   "execution_count": 15,
   "metadata": {
    "datalore": {
     "hide_input_from_viewers": true,
     "hide_output_from_viewers": true,
     "node_id": "CeppT1Ebz9k4oBQxCbDJ59",
     "type": "CODE"
    }
   },
   "outputs": [
    {
     "name": "stdout",
     "output_type": "stream",
     "text": [
      "Moyenne des plus petites valeurs entre time_diff1 et time_diff2 :\n",
      "2.3265000000000002\n"
     ]
    }
   ],
   "source": [
    "average_min_time_diff = negative_scores[['time_diff1', 'time_diff2']].min(axis=1).mean()\n",
    "\n",
    "print(\"Moyenne des plus petites valeurs entre time_diff1 et time_diff2 :\")\n",
    "print(average_min_time_diff)"
   ]
  },
  {
   "cell_type": "code",
   "execution_count": 16,
   "metadata": {
    "datalore": {
     "hide_input_from_viewers": true,
     "hide_output_from_viewers": true,
     "node_id": "pWtnel5UaqzSjEDGySohHo",
     "type": "CODE"
    }
   },
   "outputs": [
    {
     "data": {
      "text/html": [
       "<div>\n",
       "<style scoped>\n",
       "    .dataframe tbody tr th:only-of-type {\n",
       "        vertical-align: middle;\n",
       "    }\n",
       "\n",
       "    .dataframe tbody tr th {\n",
       "        vertical-align: top;\n",
       "    }\n",
       "\n",
       "    .dataframe thead th {\n",
       "        text-align: right;\n",
       "    }\n",
       "</style>\n",
       "<table border=\"1\" class=\"dataframe\">\n",
       "  <thead>\n",
       "    <tr style=\"text-align: right;\">\n",
       "      <th></th>\n",
       "      <th>score_id</th>\n",
       "      <th>red_point</th>\n",
       "      <th>blue_point</th>\n",
       "      <th>judge_id</th>\n",
       "    </tr>\n",
       "  </thead>\n",
       "  <tbody>\n",
       "    <tr>\n",
       "      <th>392</th>\n",
       "      <td>393</td>\n",
       "      <td>0</td>\n",
       "      <td>1</td>\n",
       "      <td>114819</td>\n",
       "    </tr>\n",
       "    <tr>\n",
       "      <th>393</th>\n",
       "      <td>394</td>\n",
       "      <td>0</td>\n",
       "      <td>-1</td>\n",
       "      <td>114819</td>\n",
       "    </tr>\n",
       "    <tr>\n",
       "      <th>427</th>\n",
       "      <td>428</td>\n",
       "      <td>-1</td>\n",
       "      <td>0</td>\n",
       "      <td>114819</td>\n",
       "    </tr>\n",
       "    <tr>\n",
       "      <th>428</th>\n",
       "      <td>429</td>\n",
       "      <td>-1</td>\n",
       "      <td>0</td>\n",
       "      <td>114819</td>\n",
       "    </tr>\n",
       "    <tr>\n",
       "      <th>429</th>\n",
       "      <td>430</td>\n",
       "      <td>0</td>\n",
       "      <td>1</td>\n",
       "      <td>114819</td>\n",
       "    </tr>\n",
       "    <tr>\n",
       "      <th>442</th>\n",
       "      <td>443</td>\n",
       "      <td>1</td>\n",
       "      <td>0</td>\n",
       "      <td>114813</td>\n",
       "    </tr>\n",
       "    <tr>\n",
       "      <th>444</th>\n",
       "      <td>445</td>\n",
       "      <td>-1</td>\n",
       "      <td>0</td>\n",
       "      <td>114813</td>\n",
       "    </tr>\n",
       "  </tbody>\n",
       "</table>\n",
       "</div>"
      ],
      "text/plain": [
       "     score_id  red_point  blue_point  judge_id\n",
       "392       393          0           1    114819\n",
       "393       394          0          -1    114819\n",
       "427       428         -1           0    114819\n",
       "428       429         -1           0    114819\n",
       "429       430          0           1    114819\n",
       "442       443          1           0    114813\n",
       "444       445         -1           0    114813"
      ]
     },
     "execution_count": 16,
     "metadata": {},
     "output_type": "execute_result"
    }
   ],
   "source": [
    "data = data[data['match_id'] == 21096]\n",
    "\n",
    "# Création d'un dictionnaire contenant les scores positifs de chaque juge pour chaque match\n",
    "positive_scores_dict = {}\n",
    "positive_scores = data[(data['red_point'] > 0) | (data['blue_point'] > 0)]\n",
    "for _, row in positive_scores.iterrows():\n",
    "    judge_id = row['judge_id']\n",
    "    match_id = row['match_id']\n",
    "    if match_id not in positive_scores_dict:\n",
    "        positive_scores_dict[match_id] = {}\n",
    "    if judge_id not in positive_scores_dict[match_id]:\n",
    "        positive_scores_dict[match_id][judge_id] = []\n",
    "    positive_scores_dict[match_id][judge_id].append(row)\n",
    "\n",
    "# Obtention des score_id et closest_score_id à partir de cols_to_display4\n",
    "score_ids = negative_scores.loc[negative_scores['match_id'] == 21096, 'score_id'].tolist()\n",
    "closest_score_ids = negative_scores.loc[negative_scores['match_id'] == 21096, 'closest_score_id'].tolist()\n",
    "\n",
    "# Filtre des lignes de données selon les score_id et closest_score_id\n",
    "filtered_data = data[data['score_id'].isin(score_ids) | data['score_id'].isin(closest_score_ids)]\n",
    "\n",
    "# Sélection des colonnes spécifiées dans cols_to_display5\n",
    "cols_to_display5 = ['score_id', 'red_point', 'blue_point', 'judge_id']\n",
    "filtered_data.loc[filtered_data['match_id'] == 21096, cols_to_display5]\n",
    "\n",
    "# Suppression des lignes de data correspondant à filtered_data\n",
    "data = data.drop(filtered_data.index)\n",
    "\n",
    "# Affichage des lignes supprimées\n",
    "cols_to_display5 = ['score_id', 'red_point', 'blue_point', 'judge_id']\n",
    "filtered_data.loc[filtered_data['match_id'] == 21096, cols_to_display5]"
   ]
  },
  {
   "cell_type": "markdown",
   "metadata": {
    "datalore": {
     "hide_input_from_viewers": true,
     "hide_output_from_viewers": true,
     "node_id": "7s17qE4momW4BMgseMo8fH",
     "type": "MD"
    }
   },
   "source": [
    "Nous connaissons maintenant les lignes portant des valeurs négatives et sur quelle ligne elle a été compensée. Ce nettoyage permettra une meilleure précision lors de la détection des moments d'échanges."
   ]
  },
  {
   "cell_type": "code",
   "execution_count": 17,
   "metadata": {
    "datalore": {
     "hide_input_from_viewers": true,
     "hide_output_from_viewers": true,
     "node_id": "2J6pCaHaY5GdinqqX6vYnk",
     "type": "CODE"
    }
   },
   "outputs": [
    {
     "name": "stdout",
     "output_type": "stream",
     "text": [
      "Nombre de lignes existantes : 68\n"
     ]
    }
   ],
   "source": [
    "match = data.loc[data['match_id'] == 21096, cols_to_display]\n",
    "num_rows = len(match.index)\n",
    "print(\"Nombre de lignes existantes :\", num_rows)"
   ]
  },
  {
   "cell_type": "code",
   "execution_count": 18,
   "metadata": {
    "datalore": {
     "hide_input_from_viewers": true,
     "hide_output_from_viewers": true,
     "node_id": "lGTwKEIRlb6IrcCkNAO4Ks",
     "type": "CODE"
    }
   },
   "outputs": [],
   "source": [
    "index_to_drop = data[(data['match_id'] == 21096) & ((data['red_point'] < 0) | (data['blue_point'] < 0))].index\n",
    "data.drop(index=index_to_drop, inplace=True)"
   ]
  },
  {
   "cell_type": "code",
   "execution_count": 19,
   "metadata": {
    "datalore": {
     "hide_input_from_viewers": true,
     "hide_output_from_viewers": true,
     "node_id": "jwlV6L1KeVNVsV7STLn5or",
     "type": "CODE"
    }
   },
   "outputs": [
    {
     "name": "stdout",
     "output_type": "stream",
     "text": [
      "Nombre de lignes existantes : 68\n"
     ]
    }
   ],
   "source": [
    "match = data.loc[data['match_id'] == 21096, cols_to_display]\n",
    "num_rows = len(match.index)\n",
    "print(\"Nombre de lignes existantes :\", num_rows)"
   ]
  },
  {
   "cell_type": "code",
   "execution_count": 20,
   "metadata": {
    "datalore": {
     "hide_input_from_viewers": true,
     "hide_output_from_viewers": true,
     "node_id": "qsmFhdkxRPdIxfBAobe45p",
     "type": "CODE"
    }
   },
   "outputs": [
    {
     "data": {
      "text/html": [
       "<div>\n",
       "<style scoped>\n",
       "    .dataframe tbody tr th:only-of-type {\n",
       "        vertical-align: middle;\n",
       "    }\n",
       "\n",
       "    .dataframe tbody tr th {\n",
       "        vertical-align: top;\n",
       "    }\n",
       "\n",
       "    .dataframe thead th {\n",
       "        text-align: right;\n",
       "    }\n",
       "</style>\n",
       "<table border=\"1\" class=\"dataframe\">\n",
       "  <thead>\n",
       "    <tr style=\"text-align: right;\">\n",
       "      <th></th>\n",
       "      <th>score_id</th>\n",
       "      <th>red_point</th>\n",
       "      <th>red_penalty</th>\n",
       "      <th>blue_point</th>\n",
       "      <th>blue_penalty</th>\n",
       "      <th>date_create_app</th>\n",
       "      <th>judge_id</th>\n",
       "      <th>match_id</th>\n",
       "    </tr>\n",
       "  </thead>\n",
       "  <tbody>\n",
       "    <tr>\n",
       "      <th>400</th>\n",
       "      <td>401</td>\n",
       "      <td>0</td>\n",
       "      <td>0</td>\n",
       "      <td>1</td>\n",
       "      <td>0</td>\n",
       "      <td>2021-06-26 11:44:32.023000+00:00</td>\n",
       "      <td>114813</td>\n",
       "      <td>21096</td>\n",
       "    </tr>\n",
       "    <tr>\n",
       "      <th>401</th>\n",
       "      <td>402</td>\n",
       "      <td>1</td>\n",
       "      <td>0</td>\n",
       "      <td>0</td>\n",
       "      <td>0</td>\n",
       "      <td>2021-06-26 11:44:33.222000+00:00</td>\n",
       "      <td>114826</td>\n",
       "      <td>21096</td>\n",
       "    </tr>\n",
       "    <tr>\n",
       "      <th>402</th>\n",
       "      <td>403</td>\n",
       "      <td>1</td>\n",
       "      <td>0</td>\n",
       "      <td>0</td>\n",
       "      <td>0</td>\n",
       "      <td>2021-06-26 11:44:36.483000+00:00</td>\n",
       "      <td>114813</td>\n",
       "      <td>21096</td>\n",
       "    </tr>\n",
       "    <tr>\n",
       "      <th>403</th>\n",
       "      <td>404</td>\n",
       "      <td>1</td>\n",
       "      <td>0</td>\n",
       "      <td>0</td>\n",
       "      <td>0</td>\n",
       "      <td>2021-06-26 11:44:37.176000+00:00</td>\n",
       "      <td>114819</td>\n",
       "      <td>21096</td>\n",
       "    </tr>\n",
       "    <tr>\n",
       "      <th>404</th>\n",
       "      <td>405</td>\n",
       "      <td>0</td>\n",
       "      <td>0</td>\n",
       "      <td>1</td>\n",
       "      <td>0</td>\n",
       "      <td>2021-06-26 11:44:38.860000+00:00</td>\n",
       "      <td>114819</td>\n",
       "      <td>21096</td>\n",
       "    </tr>\n",
       "    <tr>\n",
       "      <th>...</th>\n",
       "      <td>...</td>\n",
       "      <td>...</td>\n",
       "      <td>...</td>\n",
       "      <td>...</td>\n",
       "      <td>...</td>\n",
       "      <td>...</td>\n",
       "      <td>...</td>\n",
       "      <td>...</td>\n",
       "    </tr>\n",
       "    <tr>\n",
       "      <th>478</th>\n",
       "      <td>479</td>\n",
       "      <td>1</td>\n",
       "      <td>0</td>\n",
       "      <td>0</td>\n",
       "      <td>0</td>\n",
       "      <td>2021-06-26 11:49:13.858000+00:00</td>\n",
       "      <td>114819</td>\n",
       "      <td>21096</td>\n",
       "    </tr>\n",
       "    <tr>\n",
       "      <th>479</th>\n",
       "      <td>480</td>\n",
       "      <td>1</td>\n",
       "      <td>0</td>\n",
       "      <td>0</td>\n",
       "      <td>0</td>\n",
       "      <td>2021-06-26 11:49:14.303000+00:00</td>\n",
       "      <td>114813</td>\n",
       "      <td>21096</td>\n",
       "    </tr>\n",
       "    <tr>\n",
       "      <th>480</th>\n",
       "      <td>481</td>\n",
       "      <td>0</td>\n",
       "      <td>0</td>\n",
       "      <td>1</td>\n",
       "      <td>0</td>\n",
       "      <td>2021-06-26 11:49:16.728000+00:00</td>\n",
       "      <td>114813</td>\n",
       "      <td>21096</td>\n",
       "    </tr>\n",
       "    <tr>\n",
       "      <th>481</th>\n",
       "      <td>482</td>\n",
       "      <td>0</td>\n",
       "      <td>0</td>\n",
       "      <td>1</td>\n",
       "      <td>0</td>\n",
       "      <td>2021-06-26 11:49:18.399000+00:00</td>\n",
       "      <td>114826</td>\n",
       "      <td>21096</td>\n",
       "    </tr>\n",
       "    <tr>\n",
       "      <th>482</th>\n",
       "      <td>483</td>\n",
       "      <td>1</td>\n",
       "      <td>0</td>\n",
       "      <td>0</td>\n",
       "      <td>0</td>\n",
       "      <td>2021-06-26 11:49:18.456000+00:00</td>\n",
       "      <td>114819</td>\n",
       "      <td>21096</td>\n",
       "    </tr>\n",
       "  </tbody>\n",
       "</table>\n",
       "<p>68 rows × 8 columns</p>\n",
       "</div>"
      ],
      "text/plain": [
       "     score_id  red_point  red_penalty  blue_point  blue_penalty  \\\n",
       "400       401          0            0           1             0   \n",
       "401       402          1            0           0             0   \n",
       "402       403          1            0           0             0   \n",
       "403       404          1            0           0             0   \n",
       "404       405          0            0           1             0   \n",
       "..        ...        ...          ...         ...           ...   \n",
       "478       479          1            0           0             0   \n",
       "479       480          1            0           0             0   \n",
       "480       481          0            0           1             0   \n",
       "481       482          0            0           1             0   \n",
       "482       483          1            0           0             0   \n",
       "\n",
       "                     date_create_app  judge_id  match_id  \n",
       "400 2021-06-26 11:44:32.023000+00:00    114813     21096  \n",
       "401 2021-06-26 11:44:33.222000+00:00    114826     21096  \n",
       "402 2021-06-26 11:44:36.483000+00:00    114813     21096  \n",
       "403 2021-06-26 11:44:37.176000+00:00    114819     21096  \n",
       "404 2021-06-26 11:44:38.860000+00:00    114819     21096  \n",
       "..                               ...       ...       ...  \n",
       "478 2021-06-26 11:49:13.858000+00:00    114819     21096  \n",
       "479 2021-06-26 11:49:14.303000+00:00    114813     21096  \n",
       "480 2021-06-26 11:49:16.728000+00:00    114813     21096  \n",
       "481 2021-06-26 11:49:18.399000+00:00    114826     21096  \n",
       "482 2021-06-26 11:49:18.456000+00:00    114819     21096  \n",
       "\n",
       "[68 rows x 8 columns]"
      ]
     },
     "execution_count": 20,
     "metadata": {},
     "output_type": "execute_result"
    }
   ],
   "source": [
    "# Afficher les colonnes spécifiées pour les données avec match_id 21096\n",
    "cols_to_display = ['score_id', 'red_point', 'red_penalty', 'blue_point', 'blue_penalty', 'date_create_app', 'judge_id', 'match_id']\n",
    "data.loc[data['match_id'] == 21096, cols_to_display]"
   ]
  },
  {
   "cell_type": "markdown",
   "metadata": {
    "datalore": {
     "hide_input_from_viewers": true,
     "hide_output_from_viewers": true,
     "node_id": "cWDBiQCCyAeABg6rILJWnB",
     "type": "MD"
    }
   },
   "source": [
    "## Modelling\n",
    "### Graphes"
   ]
  },
  {
   "cell_type": "code",
   "execution_count": 21,
   "metadata": {
    "datalore": {
     "hide_input_from_viewers": true,
     "hide_output_from_viewers": true,
     "node_id": "ekACT7y9VhLL5su0s3fb5M",
     "type": "CODE"
    }
   },
   "outputs": [
    {
     "name": "stdout",
     "output_type": "stream",
     "text": [
      "   match_id  red_point  blue_point\n",
      "0     21096         35          33\n"
     ]
    }
   ],
   "source": [
    "total_points = data.groupby(\"match_id\")[[\"red_point\", \"blue_point\"]].sum().reset_index()\n",
    "\n",
    "print(total_points)"
   ]
  },
  {
   "cell_type": "code",
   "execution_count": 22,
   "metadata": {
    "datalore": {
     "hide_input_from_viewers": true,
     "hide_output_from_viewers": true,
     "node_id": "Qzo2AdGFs0F8sM3spPNB9c",
     "type": "CODE"
    }
   },
   "outputs": [
    {
     "name": "stdout",
     "output_type": "stream",
     "text": [
      "                   red_point  blue_point\n",
      "match_id judge_id                       \n",
      "21096    114813           13          16\n",
      "         114819           11          10\n",
      "         114826           11           7\n"
     ]
    }
   ],
   "source": [
    "match_rows = data.loc[data['match_id'] == 21096]\n",
    "\n",
    "scores_by_judge = match_rows.groupby(['match_id', 'judge_id']).sum()[['red_point', 'blue_point']]\n",
    "\n",
    "print(scores_by_judge)"
   ]
  },
  {
   "cell_type": "code",
   "execution_count": 23,
   "metadata": {
    "datalore": {
     "hide_input_from_viewers": true,
     "hide_output_from_viewers": true,
     "node_id": "uNM30jyryh343SgWFizZzl",
     "type": "CODE"
    }
   },
   "outputs": [
    {
     "data": {
      "image/png": "[encoded data removed]",
      "text/plain": [
       "<Figure size 1080x360 with 1 Axes>"
      ]
     },
     "metadata": {
      "needs_background": "light"
     },
     "output_type": "display_data"
    },
    {
     "data": {
      "image/png": "[encoded data removed]",
      "text/plain": [
       "<Figure size 1080x360 with 1 Axes>"
      ]
     },
     "metadata": {
      "needs_background": "light"
     },
     "output_type": "display_data"
    },
    {
     "data": {
      "image/png": "[encoded data removed]",
      "text/plain": [
       "<Figure size 1080x360 with 1 Axes>"
      ]
     },
     "metadata": {
      "needs_background": "light"
     },
     "output_type": "display_data"
    }
   ],
   "source": [
    "data = data[data['match_id'] == 21096]\n",
    "data = data.sort_values('date_create_app')\n",
    "\n",
    "data_blue_points = data[data['blue_point'] == 1][['date_create_app', 'blue_point']]\n",
    "data_red_points = data[data['red_point'] == 1][['date_create_app', 'red_point']]\n",
    "\n",
    "grouped_data = data.groupby(['judge_id'])\n",
    "\n",
    "# Boucle sur les groupes pour créer un graphe par judge_id\n",
    "for name, group in grouped_data:\n",
    "    group_blue_points = group[group['date_create_app'].isin(data_blue_points['date_create_app'])]\n",
    "    group_red_points = group[group['date_create_app'].isin(data_red_points['date_create_app'])]\n",
    "\n",
    "    cumulative_blue_points = group_blue_points['blue_point'].cumsum()\n",
    "    cumulative_red_points = group_red_points['red_point'].cumsum()\n",
    "\n",
    "    # Création d'un graphe pour chaque judge_id\n",
    "    fig, axs = plt.subplots(figsize=(15, 5))\n",
    "    \n",
    "    axs.plot(group_blue_points['date_create_app'], cumulative_blue_points,marker='o', label=f\"Judge {name} (blue)\")\n",
    "    axs.plot(group_red_points['date_create_app'], cumulative_red_points, marker='o',label=f\"Judge {name} (red)\", linestyle='--')\n",
    "\n",
    "    # Configuration du graphe\n",
    "    axs.set_xlabel(\"Date de création\")\n",
    "    axs.set_ylabel(\"Points\")\n",
    "    axs.legend()\n",
    "\n",
    "    plt.xticks(rotation=45)\n",
    "    axs.xaxis.set_major_formatter(mdates.DateFormatter('%M:%S'))\n",
    "\n",
    "    axs.set_xticks(group['date_create_app'])\n",
    "    axs.set_xticklabels(group['date_create_app'].dt.strftime('%M:%S'))\n",
    "\n",
    "    max_points = max(cumulative_blue_points.max(), cumulative_red_points.max()) + 1\n",
    "    axs.set_yticks(range(0, max_points))\n",
    "\n",
    "    total_blue_points = group_blue_points['blue_point'].sum()\n",
    "    axs.text(0.5, 0.95, f\"Total blue points: {total_blue_points}\", transform=axs.transAxes, ha=\"center\")\n",
    "\n",
    "    total_red_points = group_red_points['red_point'].sum()\n",
    "    axs.text(0.5, 0.9, f\"Total red points : {total_red_points}\", transform=axs.transAxes, ha=\"center\")\n",
    "\n",
    "    plt.title(f\"Points cumulés pour le juge {name}\")\n",
    "    plt.show()"
   ]
  },
  {
   "cell_type": "code",
   "execution_count": 52,
   "metadata": {
    "datalore": {
     "hide_input_from_viewers": true,
     "hide_output_from_viewers": true,
     "node_id": "eIuUIm5c0Mv5qroJzwMx70",
     "type": "CODE"
    }
   },
   "outputs": [
    {
     "data": {
      "image/png": "[encoded data removed]",
      "text/plain": [
       "<Figure size 1080x720 with 1 Axes>"
      ]
     },
     "metadata": {
      "needs_background": "light"
     },
     "output_type": "display_data"
    }
   ],
   "source": [
    "data = data[data['match_id'] == 21096]\n",
    "data = data.sort_values('date_create_app')\n",
    "\n",
    "data_blue_points = data[data['blue_point'] == 1][['date_create_app', 'blue_point']]\n",
    "data_red_points = data[data['red_point'] == 1][['date_create_app', 'red_point']]\n",
    "\n",
    "grouped_data = data.groupby(['judge_id'])\n",
    "\n",
    "# Création du graphe\n",
    "fig, ax = plt.subplots(figsize=(15, 10))\n",
    "\n",
    "# Boucle sur les groupes pour ajouter les points cumulés pour chaque juge\n",
    "for name, group in grouped_data:\n",
    "    group_blue_points = group[group['date_create_app'].isin(data_blue_points['date_create_app'])]\n",
    "    group_red_points = group[group['date_create_app'].isin(data_red_points['date_create_app'])]\n",
    "\n",
    "    cumulative_blue_points = group_blue_points['blue_point'].cumsum()\n",
    "    cumulative_red_points = group_red_points['red_point'].cumsum()\n",
    "\n",
    "    ax.plot(group_blue_points['date_create_app'], cumulative_blue_points, marker='o', label=f\"Judge {name} (blue)\")\n",
    "    ax.plot(group_red_points['date_create_app'], cumulative_red_points, marker='o', label=f\"Judge {name} (red)\", linestyle='--')\n",
    "\n",
    "# Configuration du graphe\n",
    "ax.set_xlabel(\"Date de création\")\n",
    "ax.set_ylabel(\"Points\")\n",
    "ax.legend()\n",
    "\n",
    "plt.xticks(rotation=45)\n",
    "ax.xaxis.set_major_formatter(mdates.DateFormatter('%M:%S'))\n",
    "\n",
    "ax.set_xticks(data['date_create_app'])\n",
    "ax.set_xticklabels(data['date_create_app'].dt.strftime('%M:%S'))\n",
    "\n",
    "max_points = max(data['blue_point'].cumsum().max(), data['red_point'].cumsum().max()) + 1\n",
    "ax.set_yticks(range(0, max_points))\n",
    "\n",
    "total_blue_points = data_blue_points['blue_point'].sum()\n",
    "ax.text(0.5, 0.95, f\"Total blue points: {total_blue_points}\", transform=ax.transAxes, ha=\"center\")\n",
    "\n",
    "total_red_points = data_red_points['red_point'].sum()\n",
    "ax.text(0.5, 0.9, f\"Total red points : {total_red_points}\", transform=ax.transAxes, ha=\"center\")\n",
    "\n",
    "plt.title(f\"Points cumulés pour tous les juges\")\n",
    "plt.show()\n"
   ]
  },
  {
   "cell_type": "code",
   "execution_count": 25,
   "metadata": {
    "datalore": {
     "hide_input_from_viewers": true,
     "hide_output_from_viewers": true,
     "node_id": "Rn2gRnYfIkp2CSIuM0OS4n",
     "type": "CODE"
    }
   },
   "outputs": [
    {
     "data": {
      "image/png": "[encoded data removed]",
      "text/plain": [
       "<Figure size 1080x720 with 1 Axes>"
      ]
     },
     "metadata": {
      "needs_background": "light"
     },
     "output_type": "display_data"
    }
   ],
   "source": [
    "data = data[data['match_id'] == 21096]\n",
    "\n",
    "data = data.sort_values('date_create_app')\n",
    "\n",
    "data_red_points = data[data['red_point'] == 1][['date_create_app', 'red_point']]\n",
    "data_blue_points = data[data['blue_point'] == 1][['date_create_app', 'blue_point']]\n",
    "\n",
    "\n",
    "cumulative_red_points = data_red_points['red_point'].cumsum()\n",
    "cumulative_blue_points = data_blue_points['blue_point'].cumsum()\n",
    "\n",
    "fig, ax = plt.subplots(figsize=(15, 10))\n",
    "\n",
    "ax.plot(data_blue_points['date_create_app'], cumulative_blue_points, marker='o', label='Blue points')\n",
    "ax.plot(data_red_points['date_create_app'], cumulative_red_points, marker='o', label='Red points')\n",
    "\n",
    "red_penalty_dates = data[data['red_penalty'] == 1]['date_create_app']\n",
    "for date in red_penalty_dates:\n",
    "    ax.axvline(x=date, color='red', linestyle='--', alpha=0.5)\n",
    "\n",
    "blue_penalty_dates = data[data['blue_penalty'] == 1]['date_create_app']\n",
    "for date in blue_penalty_dates:\n",
    "    ax.axvline(x=date, color='blue', linestyle='--', alpha=0.5)\n",
    "\n",
    "# Configuration du graphe\n",
    "ax.set_xlabel(\"Date de création\")\n",
    "ax.set_ylabel(\"Points\")\n",
    "ax.legend()\n",
    "\n",
    "plt.xticks(rotation=45)\n",
    "ax.xaxis.set_major_formatter(mdates.DateFormatter('%M:%S'))\n",
    "\n",
    "ax.set_xticks(data['date_create_app'])\n",
    "ax.set_xticklabels(data['date_create_app'].dt.strftime('%M:%S'))\n",
    "\n",
    "max_points = max(cumulative_blue_points.max(), cumulative_red_points.max()) + 1\n",
    "ax.set_yticks(np.arange(0, max_points, 1))\n",
    "\n",
    "total_blue_points = cumulative_blue_points.iloc[-1]\n",
    "ax.text(0.5, 0.95, f\"Total blue points: {total_blue_points}\", transform=ax.transAxes, ha=\"center\")\n",
    "total_red_points = cumulative_red_points.iloc[-1]\n",
    "ax.text(0.5, 0.9, f\"Total red points: {total_red_points}\", transform=ax.transAxes, ha=\"center\")\n",
    "\n",
    "plt.title(\"Points cumulés pour le match 21096\")\n",
    "plt.show()"
   ]
  },
  {
   "cell_type": "markdown",
   "metadata": {
    "datalore": {
     "hide_input_from_viewers": true,
     "hide_output_from_viewers": true,
     "node_id": "AnYDIzbyTFLtbKEsO5aZAH",
     "type": "MD"
    }
   },
   "source": [
    "### DBSCAN "
   ]
  },
  {
   "cell_type": "code",
   "execution_count": 37,
   "metadata": {
    "datalore": {
     "hide_input_from_viewers": true,
     "hide_output_from_viewers": true,
     "node_id": "BQW5p7n91oVoXlVG38cqoN",
     "type": "CODE"
    },
    "scrolled": true
   },
   "outputs": [
    {
     "name": "stdout",
     "output_type": "stream",
     "text": [
      "Round 1\n",
      "Score ID de la borne inférieure : 401\n",
      "Score ID de la borne supérieure : 431\n",
      "\n",
      "Round 2\n",
      "Score ID de la borne inférieure : 437\n",
      "Score ID de la borne supérieure : 454\n",
      "\n",
      "Round 3\n",
      "Score ID de la borne inférieure : 455\n",
      "Score ID de la borne supérieure : 483\n",
      "\n"
     ]
    },
    {
     "data": {
      "image/png": "[encoded data removed]",
      "text/plain": [
       "<Figure size 1080x720 with 4 Axes>"
      ]
     },
     "metadata": {
      "needs_background": "light"
     },
     "output_type": "display_data"
    }
   ],
   "source": [
    "data['timestamp'] = data['date_create_app'].apply(lambda x: x.timestamp())\n",
    "\n",
    "# Sélection des colonnes à utiliser pour le clustering\n",
    "features = data[['timestamp']]\n",
    "score_ids = data['score_id']\n",
    "\n",
    "# Normalisation des caractéristiques\n",
    "scaler = StandardScaler()\n",
    "normalized_features = scaler.fit_transform(features)\n",
    "\n",
    "# Application de DBSCAN\n",
    "dbscan = DBSCAN(eps=0.5, min_samples=5)\n",
    "dbscan.fit(normalized_features)\n",
    "\n",
    "# Récupération des labels de cluster\n",
    "labels = dbscan.labels_\n",
    "\n",
    "# Récupération des indices des lignes pour chaque cluster\n",
    "clusters = {}\n",
    "for label in set(labels):\n",
    "    if label != -1:  # Exclure la catégorie des outliers\n",
    "        cluster_indices = [i for i, l in enumerate(labels) if l == label]\n",
    "        lower_bound_index = min(cluster_indices)\n",
    "        upper_bound_index = max(cluster_indices)\n",
    "        lower_bound_score_id = score_ids.iloc[lower_bound_index]\n",
    "        upper_bound_score_id = score_ids.iloc[upper_bound_index]\n",
    "        clusters[label] = {'lower_bound_score_id': lower_bound_score_id,\n",
    "                           'upper_bound_score_id': upper_bound_score_id}\n",
    "\n",
    "# Affichage des bornes de chaque cluster\n",
    "for label, bounds in clusters.items():\n",
    "    print(\"Round\", label+1)\n",
    "    print(\"Score ID de la borne inférieure :\", bounds['lower_bound_score_id'])\n",
    "    print(\"Score ID de la borne supérieure :\", bounds['upper_bound_score_id'])\n",
    "    print()\n",
    "\n",
    "# Filtrage des données pour les clusters sélectionnés\n",
    "data_clusters = {}\n",
    "for label, bounds in clusters.items():\n",
    "    lower_bound_score_id = bounds['lower_bound_score_id']\n",
    "    upper_bound_score_id = bounds['upper_bound_score_id']\n",
    "    cluster_data = data[(data['score_id'] >= lower_bound_score_id) & (data['score_id'] <= upper_bound_score_id)]\n",
    "    data_clusters[label] = cluster_data\n",
    "\n",
    "# Paramètres pour la taille des sous-graphiques\n",
    "num_clusters = len(data_clusters)\n",
    "num_cols = 2\n",
    "num_rows = (num_clusters + 1) // num_cols\n",
    "\n",
    "# Création des sous-graphiques\n",
    "fig, axs = plt.subplots(num_rows, num_cols, figsize=(15, 10))\n",
    "\n",
    "# Initialisation des valeurs cumulées pour chaque cluster\n",
    "cumulative_blue_points_prev = 0\n",
    "cumulative_red_points_prev = 0\n",
    "\n",
    "# Parcours de chaque cluster et affichage dans un sous-graphique\n",
    "for i, (label, data_cluster) in enumerate(data_clusters.items()):\n",
    "    row = i // num_cols\n",
    "    col = i % num_cols\n",
    "    ax = axs[row, col]\n",
    "\n",
    "    # Filtrage des données pour le cluster\n",
    "    cluster_data = data_cluster[['date_create_app', 'blue_point', 'red_point']]\n",
    "\n",
    "    data_red_points = cluster_data[cluster_data['red_point'] == 1][['date_create_app', 'red_point']]\n",
    "    data_blue_points = cluster_data[cluster_data['blue_point'] == 1][['date_create_app', 'blue_point']]\n",
    "\n",
    "    cumulative_blue_points = cumulative_blue_points_prev + data_blue_points['blue_point'].cumsum()\n",
    "    cumulative_red_points = cumulative_red_points_prev + data_red_points['red_point'].cumsum()\n",
    "\n",
    "    cumulative_blue_points_prev = cumulative_blue_points.iloc[-1]\n",
    "    cumulative_red_points_prev = cumulative_red_points.iloc[-1]\n",
    "\n",
    "    # Affichage des données du cluster\n",
    "    ax.plot(data_blue_points['date_create_app'], cumulative_blue_points, label='Blue points')\n",
    "    ax.plot(data_red_points['date_create_app'], cumulative_red_points, label='Red points')\n",
    "\n",
    "    # Affichage des points de coordonnées\n",
    "    ax.scatter(data_blue_points['date_create_app'], cumulative_blue_points, c='blue', label='Blue points')\n",
    "    ax.scatter(data_red_points['date_create_app'], cumulative_red_points, c='red', label='Red points')\n",
    "\n",
    "    red_penalty_dates = data_cluster[data_cluster['red_penalty'] == 1]['date_create_app']\n",
    "    for date in red_penalty_dates:\n",
    "        ax.axvline(x=date, color='red', linestyle='--', alpha=0.5)\n",
    "\n",
    "    blue_penalty_dates = data_cluster[data_cluster['blue_penalty'] == 1]['date_create_app']\n",
    "    for date in blue_penalty_dates:\n",
    "        ax.axvline(x=date, color='blue', linestyle='--', alpha=0.5)\n",
    "\n",
    "    ax.set_xlabel('Date de création')\n",
    "    ax.set_ylabel('Points')\n",
    "    ax.set_title(f'Round {label+1}')\n",
    "    ax.legend()\n",
    "\n",
    "    ax.xaxis.set_major_formatter(mdates.DateFormatter('%M:%S'))\n",
    "\n",
    "    ax.set_xticks(cluster_data['date_create_app'])\n",
    "    ax.set_xticklabels(cluster_data['date_create_app'].dt.strftime('%M:%S'))\n",
    "\n",
    "# Ajustement de l'espacement entre les sous-graphiques\n",
    "plt.tight_layout()\n",
    "\n",
    "# Affichage du graphe\n",
    "plt.show()"
   ]
  },
  {
   "cell_type": "markdown",
   "metadata": {
    "datalore": {
     "hide_input_from_viewers": true,
     "hide_output_from_viewers": true,
     "node_id": "Tey4CSQWbWqhAwM0LJ4Gf0",
     "type": "MD"
    }
   },
   "source": [
    "### DTW \n",
    "Cette approche permet de capturer la proximité relative entre les lignes consécutives en termes de séquences de dates. Ainsi, chaque ligne est comparée à la fois avec la ligne précédente et la ligne suivante pour estimer sa similarité temporelle avec ses voisines directes."
   ]
  },
  {
   "cell_type": "code",
   "execution_count": 27,
   "metadata": {
    "datalore": {
     "hide_input_from_viewers": true,
     "hide_output_from_viewers": true,
     "node_id": "OWdAnMMomGMbco5KehU3Gm",
     "type": "CODE"
    }
   },
   "outputs": [
    {
     "name": "stdout",
     "output_type": "stream",
     "text": [
      "datetime64[ns, UTC]\n"
     ]
    }
   ],
   "source": [
    "print(data['date_create_app'].dtype)"
   ]
  },
  {
   "cell_type": "code",
   "execution_count": 28,
   "metadata": {
    "datalore": {
     "hide_input_from_viewers": true,
     "hide_output_from_viewers": true,
     "node_id": "Mola2hR095Fzhx7dwhcCBB",
     "type": "CODE"
    }
   },
   "outputs": [
    {
     "name": "stdout",
     "output_type": "stream",
     "text": [
      "0\n"
     ]
    }
   ],
   "source": [
    "print(data['date_create_app'].isnull().sum())"
   ]
  },
  {
   "cell_type": "code",
   "execution_count": 29,
   "metadata": {
    "datalore": {
     "hide_input_from_viewers": true,
     "hide_output_from_viewers": true,
     "node_id": "VtdJ8rjlAU3U4mN27R4F9O",
     "type": "CODE"
    }
   },
   "outputs": [
    {
     "name": "stdout",
     "output_type": "stream",
     "text": [
      "Round 1\n",
      "Echanges 1\n",
      "Moyenne de closest_distance : 1465.888888888889\n",
      "Écart-type de closest_distance : 1300.1304208082784\n",
      "\n",
      "Round 1\n",
      "Echanges 1\n",
      "     score_id                  date_create_app  closest_distance  judge_id\n",
      "400       401 2021-06-26 11:44:32.023000+00:00               inf    114813\n",
      "401       402 2021-06-26 11:44:33.222000+00:00            1199.0    114826\n",
      "402       403 2021-06-26 11:44:36.483000+00:00            3261.0    114813\n",
      "403       404 2021-06-26 11:44:37.176000+00:00             693.0    114819\n",
      "404       405 2021-06-26 11:44:38.860000+00:00            1684.0    114819\n",
      "405       406 2021-06-26 11:44:38.985000+00:00             125.0    114826\n",
      "406       407 2021-06-26 11:44:39.533000+00:00             548.0    114813\n",
      "407       408 2021-06-26 11:44:40.583000+00:00            1050.0    114813\n",
      "409       410 2021-06-26 11:44:41.268000+00:00             685.0    114819\n",
      "411       412 2021-06-26 11:44:45.216000+00:00            3948.0    114813\n",
      "\n",
      "Round 1\n",
      "Echanges 2\n",
      "Moyenne de closest_distance : 1525.5\n",
      "Écart-type de closest_distance : 1486.3461006001364\n",
      "\n",
      "Round 1\n",
      "Echanges 2\n",
      "     score_id                  date_create_app  closest_distance  judge_id\n",
      "412       413 2021-06-26 11:44:58.769000+00:00               inf    114813\n",
      "413       414 2021-06-26 11:44:58.908000+00:00             139.0    114826\n",
      "414       415 2021-06-26 11:44:59.665000+00:00             757.0    114819\n",
      "415       416 2021-06-26 11:45:02.084000+00:00            2419.0    114813\n",
      "416       417 2021-06-26 11:45:02.591000+00:00             507.0    114819\n",
      "417       418 2021-06-26 11:45:02.667000+00:00              76.0    114826\n",
      "418       419 2021-06-26 11:45:04.817000+00:00            2150.0    114813\n",
      "419       420 2021-06-26 11:45:05.117000+00:00             300.0    114819\n",
      "420       421 2021-06-26 11:45:05.485000+00:00             368.0    114819\n",
      "421       422 2021-06-26 11:45:07.740000+00:00            2255.0    114813\n",
      "422       423 2021-06-26 11:45:08.493000+00:00             753.0    114819\n",
      "423       424 2021-06-26 11:45:10.384000+00:00            1891.0    114813\n",
      "424       425 2021-06-26 11:45:14.859000+00:00            4475.0    114813\n",
      "425       426 2021-06-26 11:45:19.312000+00:00            4453.0    114826\n",
      "426       427 2021-06-26 11:45:20.126000+00:00             814.0    114813\n",
      "\n",
      "Round 2\n",
      "Echanges 1\n",
      "Moyenne de closest_distance : 2059.25\n",
      "Écart-type de closest_distance : 2862.4739154561157\n",
      "\n",
      "Round 2\n",
      "Echanges 1\n",
      "     score_id                  date_create_app  closest_distance  judge_id\n",
      "437       438 2021-06-26 11:46:44.370000+00:00               inf    114819\n",
      "438       439 2021-06-26 11:46:50.672000+00:00            6302.0    114813\n",
      "439       440 2021-06-26 11:46:50.854000+00:00             182.0    114826\n",
      "440       441 2021-06-26 11:46:51.371000+00:00             517.0    114819\n",
      "441       442 2021-06-26 11:46:52.607000+00:00            1236.0    114813\n",
      "\n",
      "Round 2\n",
      "Echanges 2\n",
      "Moyenne de closest_distance : 2315.6\n",
      "Écart-type de closest_distance : 2151.4651519371632\n",
      "\n",
      "Round 2\n",
      "Echanges 2\n",
      "     score_id                  date_create_app  closest_distance  judge_id\n",
      "448       449 2021-06-26 11:47:16.179000+00:00               inf    114819\n",
      "449       450 2021-06-26 11:47:17.173000+00:00             994.0    114813\n",
      "450       451 2021-06-26 11:47:17.862000+00:00             689.0    114826\n",
      "451       452 2021-06-26 11:47:18.463000+00:00             601.0    114819\n",
      "452       453 2021-06-26 11:47:22.715000+00:00            4252.0    114826\n",
      "453       454 2021-06-26 11:47:27.757000+00:00            5042.0    114813\n",
      "\n",
      "Round 3\n",
      "Echanges 1\n",
      "Moyenne de closest_distance : 2371.222222222222\n",
      "Écart-type de closest_distance : 2890.93400900893\n",
      "\n",
      "Round 3\n",
      "Echanges 1\n",
      "     score_id                  date_create_app  closest_distance  judge_id\n",
      "454       455 2021-06-26 11:48:24.661000+00:00               inf    114813\n",
      "455       456 2021-06-26 11:48:32.443000+00:00            7782.0    114813\n",
      "456       457 2021-06-26 11:48:32.667000+00:00             224.0    114819\n",
      "457       458 2021-06-26 11:48:33.663000+00:00             996.0    114813\n",
      "458       459 2021-06-26 11:48:33.861000+00:00             198.0    114826\n",
      "459       460 2021-06-26 11:48:34.421000+00:00             560.0    114826\n",
      "460       461 2021-06-26 11:48:38.001000+00:00            3580.0    114819\n",
      "461       462 2021-06-26 11:48:39.463000+00:00            1462.0    114826\n",
      "462       463 2021-06-26 11:48:45.829000+00:00            6366.0    114813\n",
      "463       464 2021-06-26 11:48:46.002000+00:00             173.0    114826\n",
      "\n",
      "Round 3\n",
      "Echanges 2\n",
      "Moyenne de closest_distance : 1290.857142857143\n",
      "Écart-type de closest_distance : 1132.0997347953976\n",
      "\n",
      "Round 3\n",
      "Echanges 2\n",
      "     score_id                  date_create_app  closest_distance  judge_id\n",
      "464       465 2021-06-26 11:48:55.047000+00:00               inf    114819\n",
      "465       466 2021-06-26 11:48:58.046000+00:00            2999.0    114826\n",
      "466       467 2021-06-26 11:48:58.418000+00:00             372.0    114813\n",
      "467       468 2021-06-26 11:48:59.108000+00:00             690.0    114813\n",
      "468       469 2021-06-26 11:48:59.259000+00:00             151.0    114819\n",
      "469       470 2021-06-26 11:49:00.113000+00:00             854.0    114813\n",
      "470       471 2021-06-26 11:49:01.352000+00:00            1239.0    114826\n",
      "471       472 2021-06-26 11:49:04.083000+00:00            2731.0    114819\n",
      "\n",
      "Round 3\n",
      "Echanges 3\n",
      "Moyenne de closest_distance : 841.1428571428571\n",
      "Écart-type de closest_distance : 884.1652237320482\n",
      "\n",
      "Round 3\n",
      "Echanges 3\n",
      "     score_id                  date_create_app  closest_distance  judge_id\n",
      "475       476 2021-06-26 11:49:12.568000+00:00               inf    114813\n",
      "476       477 2021-06-26 11:49:13.210000+00:00             642.0    114813\n",
      "477       478 2021-06-26 11:49:13.805000+00:00             595.0    114826\n",
      "478       479 2021-06-26 11:49:13.858000+00:00              53.0    114819\n",
      "479       480 2021-06-26 11:49:14.303000+00:00             445.0    114813\n",
      "480       481 2021-06-26 11:49:16.728000+00:00            2425.0    114813\n",
      "481       482 2021-06-26 11:49:18.399000+00:00            1671.0    114826\n",
      "482       483 2021-06-26 11:49:18.456000+00:00              57.0    114819\n",
      "\n"
     ]
    }
   ],
   "source": [
    "\n",
    "# Fonction pour calculer la distance DTW entre deux séquences de dates\n",
    "def dtw_distance(sequence1, sequence2):\n",
    "    sequence1 = np.array(sequence1).reshape(-1, 1)\n",
    "    sequence2 = np.array(sequence2).reshape(-1, 1)\n",
    "    distance, _ = fastdtw(sequence1, sequence2, dist=euclidean)\n",
    "    return distance\n",
    "\n",
    "# Parcours des rounds pour appliquer DBSCAN à chaque round\n",
    "for round_label, round_data in data_clusters.items():\n",
    "    \n",
    "    # Sélection des colonnes à utiliser pour le clustering\n",
    "    features = round_data[['timestamp']]\n",
    "\n",
    "    # Normalisation des caractéristiques\n",
    "    scaler = StandardScaler()\n",
    "    normalized_features = scaler.fit_transform(features)\n",
    "\n",
    "    # Application de DBSCAN\n",
    "    dbscan = DBSCAN(eps=0.5, min_samples=5)\n",
    "    dbscan.fit(normalized_features)\n",
    "\n",
    "    # Récupération des labels de round\n",
    "    round_labels = dbscan.labels_\n",
    "\n",
    "    # Récupération des indices des lignes pour chaque round\n",
    "    round_clusters = {}\n",
    "    for label in set(round_labels):\n",
    "        if label != -1:  # Exclure la catégorie des outliers\n",
    "            cluster_indices = [i for i, l in enumerate(round_labels) if l == label]\n",
    "            lower_bound_index = min(cluster_indices)\n",
    "            upper_bound_index = max(cluster_indices)\n",
    "            lower_bound_score_id = score_ids.iloc[lower_bound_index]\n",
    "            upper_bound_score_id = score_ids.iloc[upper_bound_index]\n",
    "            round_clusters[label] = {'lower_bound_score_id': lower_bound_score_id,\n",
    "                                      'upper_bound_score_id': upper_bound_score_id}\n",
    "\n",
    "    # Parcours des clusters du round actuel\n",
    "    for cluster_label, cluster_bounds in round_clusters.items():\n",
    "        cluster_data = round_data[(round_labels == cluster_label) & (round_labels != -1)]\n",
    "\n",
    "        # Tri du cluster_data par score_id\n",
    "        sorted_cluster_data = cluster_data.sort_values('score_id')\n",
    "\n",
    "        # Création d'une colonne pour stocker la distance la plus proche\n",
    "        sorted_cluster_data['closest_distance'] = np.inf\n",
    "\n",
    "        # Conversion de la colonne date_create_app en valeurs de temps en millisecondes\n",
    "        sorted_cluster_data['timestamp_ms'] = sorted_cluster_data['date_create_app'].view('int64') // 10**6\n",
    "\n",
    "        # Parcours des lignes pour calculer la distance la plus proche\n",
    "        for i in range(1, len(sorted_cluster_data)):\n",
    "            current_row = sorted_cluster_data.iloc[i]\n",
    "            previous_row = sorted_cluster_data.iloc[i-1]\n",
    "            current_sequence = current_row['timestamp_ms']\n",
    "            previous_sequence = previous_row['timestamp_ms']\n",
    "            distance = dtw_distance(current_sequence, previous_sequence)\n",
    "            sorted_cluster_data.at[current_row.name, 'closest_distance'] = distance\n",
    "\n",
    "        # Suppression des valeurs \"inf\"\n",
    "        filtered_cluster_data_no_inf = sorted_cluster_data[sorted_cluster_data['closest_distance'] != np.inf]\n",
    "\n",
    "        # Calcul des statistiques des distances\n",
    "        mean_distance = filtered_cluster_data_no_inf['closest_distance'].mean()\n",
    "        std_distance = filtered_cluster_data_no_inf['closest_distance'].std()\n",
    "\n",
    "        # Affichage des statistiques, y compris la déviation standard\n",
    "        print(\"Round\", round_label + 1)\n",
    "        print(\"Echanges\", cluster_label + 1)\n",
    "        print(\"Moyenne de closest_distance :\", mean_distance)\n",
    "        print(\"Écart-type de closest_distance :\", std_distance)\n",
    "        print()\n",
    "\n",
    "        # Affichage des colonnes spécifiées pour les données du cluster\n",
    "        cols_to_display = ['score_id', 'date_create_app', 'closest_distance', 'judge_id']\n",
    "        print(\"Round\", round_label + 1)\n",
    "        print(\"Echanges\", cluster_label + 1)\n",
    "        print(sorted_cluster_data[cols_to_display])\n",
    "        print()"
   ]
  },
  {
   "cell_type": "code",
   "execution_count": 50,
   "metadata": {},
   "outputs": [
    {
     "name": "stdout",
     "output_type": "stream",
     "text": [
      "Round 1\n",
      "Echanges 1\n",
      "Moyenne de closest_distance : 1465.888888888889\n",
      "Écart-type de closest_distance : 1300.1304208082784\n",
      "\n",
      "Petit échange 1\n",
      "     score_id                  date_create_app  closest_distance  judge_id\n",
      "400       401 2021-06-26 11:44:32.023000+00:00               inf    114813\n",
      "401       402 2021-06-26 11:44:33.222000+00:00            1199.0    114826\n",
      "\n",
      "Petit échange 2\n",
      "     score_id                  date_create_app  closest_distance  judge_id\n",
      "402       403 2021-06-26 11:44:36.483000+00:00            3261.0    114813\n",
      "403       404 2021-06-26 11:44:37.176000+00:00             693.0    114819\n",
      "\n",
      "Petit échange 3\n",
      "     score_id                  date_create_app  closest_distance  judge_id\n",
      "404       405 2021-06-26 11:44:38.860000+00:00            1684.0    114819\n",
      "405       406 2021-06-26 11:44:38.985000+00:00             125.0    114826\n",
      "406       407 2021-06-26 11:44:39.533000+00:00             548.0    114813\n",
      "407       408 2021-06-26 11:44:40.583000+00:00            1050.0    114813\n",
      "409       410 2021-06-26 11:44:41.268000+00:00             685.0    114819\n",
      "\n",
      "Petit échange 4\n",
      "     score_id                  date_create_app  closest_distance  judge_id\n",
      "411       412 2021-06-26 11:44:45.216000+00:00            3948.0    114813\n",
      "\n",
      "Round 1\n",
      "Echanges 2\n",
      "Moyenne de closest_distance : 1525.5\n",
      "Écart-type de closest_distance : 1486.3461006001364\n",
      "\n",
      "Petit échange 1\n",
      "     score_id                  date_create_app  closest_distance  judge_id\n",
      "412       413 2021-06-26 11:44:58.769000+00:00               inf    114813\n",
      "413       414 2021-06-26 11:44:58.908000+00:00             139.0    114826\n",
      "414       415 2021-06-26 11:44:59.665000+00:00             757.0    114819\n",
      "\n",
      "Petit échange 2\n",
      "     score_id                  date_create_app  closest_distance  judge_id\n",
      "415       416 2021-06-26 11:45:02.084000+00:00            2419.0    114813\n",
      "416       417 2021-06-26 11:45:02.591000+00:00             507.0    114819\n",
      "417       418 2021-06-26 11:45:02.667000+00:00              76.0    114826\n",
      "\n",
      "Petit échange 3\n",
      "     score_id                  date_create_app  closest_distance  judge_id\n",
      "418       419 2021-06-26 11:45:04.817000+00:00            2150.0    114813\n",
      "419       420 2021-06-26 11:45:05.117000+00:00             300.0    114819\n",
      "420       421 2021-06-26 11:45:05.485000+00:00             368.0    114819\n",
      "\n",
      "Petit échange 4\n",
      "     score_id                  date_create_app  closest_distance  judge_id\n",
      "421       422 2021-06-26 11:45:07.740000+00:00            2255.0    114813\n",
      "422       423 2021-06-26 11:45:08.493000+00:00             753.0    114819\n",
      "\n",
      "Petit échange 5\n",
      "     score_id                  date_create_app  closest_distance  judge_id\n",
      "423       424 2021-06-26 11:45:10.384000+00:00            1891.0    114813\n",
      "\n",
      "Petit échange 6\n",
      "     score_id                  date_create_app  closest_distance  judge_id\n",
      "424       425 2021-06-26 11:45:14.859000+00:00            4475.0    114813\n",
      "\n",
      "Petit échange 7\n",
      "     score_id                  date_create_app  closest_distance  judge_id\n",
      "425       426 2021-06-26 11:45:19.312000+00:00            4453.0    114826\n",
      "426       427 2021-06-26 11:45:20.126000+00:00             814.0    114813\n",
      "\n",
      "Round 2\n",
      "Echanges 1\n",
      "Moyenne de closest_distance : 2059.25\n",
      "Écart-type de closest_distance : 2862.4739154561157\n",
      "\n",
      "Petit échange 1\n",
      "     score_id                  date_create_app  closest_distance  judge_id\n",
      "437       438 2021-06-26 11:46:44.370000+00:00               inf    114819\n",
      "\n",
      "Petit échange 2\n",
      "     score_id                  date_create_app  closest_distance  judge_id\n",
      "438       439 2021-06-26 11:46:50.672000+00:00            6302.0    114813\n",
      "439       440 2021-06-26 11:46:50.854000+00:00             182.0    114826\n",
      "440       441 2021-06-26 11:46:51.371000+00:00             517.0    114819\n",
      "441       442 2021-06-26 11:46:52.607000+00:00            1236.0    114813\n",
      "\n",
      "Round 2\n",
      "Echanges 2\n",
      "Moyenne de closest_distance : 2315.6\n",
      "Écart-type de closest_distance : 2151.4651519371632\n",
      "\n",
      "Petit échange 1\n",
      "     score_id                  date_create_app  closest_distance  judge_id\n",
      "448       449 2021-06-26 11:47:16.179000+00:00               inf    114819\n",
      "449       450 2021-06-26 11:47:17.173000+00:00             994.0    114813\n",
      "450       451 2021-06-26 11:47:17.862000+00:00             689.0    114826\n",
      "451       452 2021-06-26 11:47:18.463000+00:00             601.0    114819\n",
      "\n",
      "Petit échange 2\n",
      "     score_id                  date_create_app  closest_distance  judge_id\n",
      "452       453 2021-06-26 11:47:22.715000+00:00            4252.0    114826\n",
      "\n",
      "Petit échange 3\n",
      "     score_id                  date_create_app  closest_distance  judge_id\n",
      "453       454 2021-06-26 11:47:27.757000+00:00            5042.0    114813\n",
      "\n",
      "Round 3\n",
      "Echanges 1\n",
      "Moyenne de closest_distance : 2371.222222222222\n",
      "Écart-type de closest_distance : 2890.93400900893\n",
      "\n",
      "Petit échange 1\n",
      "     score_id                  date_create_app  closest_distance  judge_id\n",
      "454       455 2021-06-26 11:48:24.661000+00:00               inf    114813\n",
      "\n",
      "Petit échange 2\n",
      "     score_id                  date_create_app  closest_distance  judge_id\n",
      "455       456 2021-06-26 11:48:32.443000+00:00            7782.0    114813\n",
      "456       457 2021-06-26 11:48:32.667000+00:00             224.0    114819\n",
      "457       458 2021-06-26 11:48:33.663000+00:00             996.0    114813\n",
      "458       459 2021-06-26 11:48:33.861000+00:00             198.0    114826\n",
      "459       460 2021-06-26 11:48:34.421000+00:00             560.0    114826\n",
      "\n",
      "Petit échange 3\n",
      "     score_id                  date_create_app  closest_distance  judge_id\n",
      "460       461 2021-06-26 11:48:38.001000+00:00            3580.0    114819\n",
      "461       462 2021-06-26 11:48:39.463000+00:00            1462.0    114826\n",
      "\n",
      "Petit échange 4\n",
      "     score_id                  date_create_app  closest_distance  judge_id\n",
      "462       463 2021-06-26 11:48:45.829000+00:00            6366.0    114813\n",
      "463       464 2021-06-26 11:48:46.002000+00:00             173.0    114826\n",
      "\n",
      "Round 3\n",
      "Echanges 2\n",
      "Moyenne de closest_distance : 1290.857142857143\n",
      "Écart-type de closest_distance : 1132.0997347953976\n",
      "\n",
      "Petit échange 1\n",
      "     score_id                  date_create_app  closest_distance  judge_id\n",
      "464       465 2021-06-26 11:48:55.047000+00:00               inf    114819\n",
      "\n",
      "Petit échange 2\n",
      "     score_id                  date_create_app  closest_distance  judge_id\n",
      "465       466 2021-06-26 11:48:58.046000+00:00            2999.0    114826\n",
      "466       467 2021-06-26 11:48:58.418000+00:00             372.0    114813\n",
      "467       468 2021-06-26 11:48:59.108000+00:00             690.0    114813\n",
      "468       469 2021-06-26 11:48:59.259000+00:00             151.0    114819\n",
      "469       470 2021-06-26 11:49:00.113000+00:00             854.0    114813\n",
      "\n",
      "Petit échange 3\n",
      "     score_id                  date_create_app  closest_distance  judge_id\n",
      "470       471 2021-06-26 11:49:01.352000+00:00            1239.0    114826\n",
      "\n",
      "Petit échange 4\n",
      "     score_id                  date_create_app  closest_distance  judge_id\n",
      "471       472 2021-06-26 11:49:04.083000+00:00            2731.0    114819\n",
      "\n",
      "Round 3\n",
      "Echanges 3\n",
      "Moyenne de closest_distance : 841.1428571428571\n",
      "Écart-type de closest_distance : 884.1652237320482\n",
      "\n",
      "Petit échange 1\n",
      "     score_id                  date_create_app  closest_distance  judge_id\n",
      "475       476 2021-06-26 11:49:12.568000+00:00               inf    114813\n",
      "476       477 2021-06-26 11:49:13.210000+00:00             642.0    114813\n",
      "477       478 2021-06-26 11:49:13.805000+00:00             595.0    114826\n",
      "478       479 2021-06-26 11:49:13.858000+00:00              53.0    114819\n",
      "479       480 2021-06-26 11:49:14.303000+00:00             445.0    114813\n",
      "\n",
      "Petit échange 2\n",
      "     score_id                  date_create_app  closest_distance  judge_id\n",
      "480       481 2021-06-26 11:49:16.728000+00:00            2425.0    114813\n",
      "\n",
      "Petit échange 3\n",
      "     score_id                  date_create_app  closest_distance  judge_id\n",
      "481       482 2021-06-26 11:49:18.399000+00:00            1671.0    114826\n",
      "482       483 2021-06-26 11:49:18.456000+00:00              57.0    114819\n",
      "\n"
     ]
    }
   ],
   "source": [
    "# Fonction pour calculer la distance DTW entre deux séquences de dates\n",
    "def dtw_distance(sequence1, sequence2):\n",
    "    sequence1 = np.array(sequence1).reshape(-1, 1)\n",
    "    sequence2 = np.array(sequence2).reshape(-1, 1)\n",
    "    distance, _ = fastdtw(sequence1, sequence2, dist=euclidean)\n",
    "    return distance\n",
    "\n",
    "# Parcours des rounds pour appliquer DBSCAN à chaque round\n",
    "for round_label, round_data in data_clusters.items():\n",
    "    \n",
    "    # Sélection des colonnes à utiliser pour le clustering\n",
    "    features = round_data[['timestamp']]\n",
    "\n",
    "    # Normalisation des caractéristiques\n",
    "    scaler = StandardScaler()\n",
    "    normalized_features = scaler.fit_transform(features)\n",
    "\n",
    "    # Application de DBSCAN\n",
    "    dbscan = DBSCAN(eps=0.5, min_samples=5)\n",
    "    dbscan.fit(normalized_features)\n",
    "\n",
    "    # Récupération des labels de round\n",
    "    round_labels = dbscan.labels_\n",
    "\n",
    "    # Récupération des indices des lignes pour chaque round\n",
    "    round_clusters = {}\n",
    "    for label in set(round_labels):\n",
    "        if label != -1:  # Exclure la catégorie des outliers\n",
    "            cluster_indices = [i for i, l in enumerate(round_labels) if l == label]\n",
    "            lower_bound_index = min(cluster_indices)\n",
    "            upper_bound_index = max(cluster_indices)\n",
    "            lower_bound_score_id = score_ids.iloc[lower_bound_index]\n",
    "            upper_bound_score_id = score_ids.iloc[upper_bound_index]\n",
    "            round_clusters[label] = {'lower_bound_score_id': lower_bound_score_id,\n",
    "                                      'upper_bound_score_id': upper_bound_score_id}\n",
    "\n",
    "    # Parcours des clusters du round actuel\n",
    "    for cluster_label, cluster_bounds in round_clusters.items():\n",
    "        cluster_data = round_data[(round_labels == cluster_label) & (round_labels != -1)]\n",
    "\n",
    "        # Tri du cluster_data par score_id\n",
    "        sorted_cluster_data = cluster_data.sort_values('score_id')\n",
    "\n",
    "        # Création d'une colonne pour stocker la distance la plus proche\n",
    "        sorted_cluster_data['closest_distance'] = np.inf\n",
    "\n",
    "        # Conversion de la colonne date_create_app en valeurs de temps en millisecondes\n",
    "        sorted_cluster_data['timestamp_ms'] = sorted_cluster_data['date_create_app'].view('int64') // 10**6\n",
    "\n",
    "        # Parcours des lignes pour calculer la distance la plus proche\n",
    "        for i in range(1, len(sorted_cluster_data)):\n",
    "            current_row = sorted_cluster_data.iloc[i]\n",
    "            previous_row = sorted_cluster_data.iloc[i-1]\n",
    "            current_sequence = current_row['timestamp_ms']\n",
    "            previous_sequence = previous_row['timestamp_ms']\n",
    "            distance = dtw_distance(current_sequence, previous_sequence)\n",
    "            sorted_cluster_data.at[current_row.name, 'closest_distance'] = distance\n",
    "\n",
    "        # Suppression des valeurs \"inf\"\n",
    "        filtered_cluster_data_no_inf = sorted_cluster_data[sorted_cluster_data['closest_distance'] != np.inf]\n",
    "\n",
    "        # Calcul des statistiques des distances\n",
    "        mean_distance = filtered_cluster_data_no_inf['closest_distance'].mean()\n",
    "        std_distance = filtered_cluster_data_no_inf['closest_distance'].std()\n",
    "\n",
    "        # Affichage des statistiques, y compris la déviation standard\n",
    "        print(\"Round\", round_label + 1)\n",
    "        print(\"Echanges\", cluster_label + 1)\n",
    "        print(\"Moyenne de closest_distance :\", mean_distance)\n",
    "        print(\"Écart-type de closest_distance :\", std_distance)\n",
    "        print()\n",
    "\n",
    "        # Détection des petits échanges\n",
    "        small_exchanges = []\n",
    "        current_small_exchange = []\n",
    "        for i, row in sorted_cluster_data.iterrows():\n",
    "            if row['closest_distance'] > std_distance:\n",
    "                if current_small_exchange:\n",
    "                    small_exchanges.append(current_small_exchange)\n",
    "                current_small_exchange = [row]\n",
    "            else:\n",
    "                current_small_exchange.append(row)\n",
    "        if current_small_exchange:\n",
    "            small_exchanges.append(current_small_exchange)\n",
    "\n",
    "        # Affichage des colonnes spécifiées pour les données du cluster\n",
    "        cols_to_display = ['score_id', 'date_create_app', 'closest_distance', 'judge_id']\n",
    "        for i, small_exchange in enumerate(small_exchanges):\n",
    "            print(\"Petit échange\", i + 1)\n",
    "            print(pd.DataFrame(small_exchange, columns=cols_to_display))\n",
    "            print()\n"
   ]
  },
  {
   "cell_type": "code",
   "execution_count": null,
   "metadata": {},
   "outputs": [],
   "source": []
  }
 ],
 "metadata": {
  "celltoolbar": "Aucun(e)",
  "datalore": {
   "base_environment": "default",
   "computation_mode": "JUPYTER",
   "package_manager": "pip",
   "packages": [
    {
     "name": "fastdtw",
     "source": "PIP"
    },
    {
     "name": "stats",
     "source": "PIP"
    }
   ],
   "report_row_ids": [],
   "version": 3
  },
  "kernelspec": {
   "display_name": "Python 3 (ipykernel)",
   "language": "python",
   "name": "python3"
  },
  "language_info": {
   "codemirror_mode": {
    "name": "ipython",
    "version": 3
   },
   "file_extension": ".py",
   "mimetype": "text/x-python",
   "name": "python",
   "nbconvert_exporter": "python",
   "pygments_lexer": "ipython3",
   "version": "3.9.12"
  }
 },
 "nbformat": 4,
 "nbformat_minor": 4
}
